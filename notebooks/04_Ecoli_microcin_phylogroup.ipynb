{
 "cells": [
  {
   "cell_type": "markdown",
   "metadata": {},
   "source": [
    "I'm pretty limited for this figure, because I drew most of it by hand in inkscape, which isn't always the best idea. Nevertheless, I can atleast go through the process of generating the data for that figure."
   ]
  },
  {
   "cell_type": "markdown",
   "metadata": {},
   "source": [
    "# Libraries"
   ]
  },
  {
   "cell_type": "code",
   "execution_count": 1,
   "metadata": {},
   "outputs": [],
   "source": [
    "%load_ext rpy2.ipython"
   ]
  },
  {
   "cell_type": "code",
   "execution_count": 2,
   "metadata": {},
   "outputs": [
    {
     "name": "stderr",
     "output_type": "stream",
     "text": [
      "R[write to console]: ── Attaching packages ─────────────────────────────────────── tidyverse 1.3.1 ──\n",
      "\n",
      "R[write to console]: ✔ ggplot2 3.3.6     ✔ purrr   0.3.4\n",
      "✔ tibble  3.1.7     ✔ dplyr   1.0.9\n",
      "✔ tidyr   1.2.0     ✔ stringr 1.4.0\n",
      "✔ readr   2.1.2     ✔ forcats 0.5.1\n",
      "\n",
      "R[write to console]: ── Conflicts ────────────────────────────────────────── tidyverse_conflicts() ──\n",
      "✖ dplyr::filter() masks stats::filter()\n",
      "✖ dplyr::lag()    masks stats::lag()\n",
      "\n"
     ]
    }
   ],
   "source": [
    "%%R \n",
    "library(tidyverse)\n",
    "library(readxl)"
   ]
  },
  {
   "cell_type": "markdown",
   "metadata": {},
   "source": [
    "# Data"
   ]
  },
  {
   "cell_type": "code",
   "execution_count": 3,
   "metadata": {},
   "outputs": [
    {
     "name": "stdout",
     "output_type": "stream",
     "text": [
      "Rows: 7262 Columns: 25\n",
      "── Column specification ────────────────────────────────────────────────────────\n",
      "Delimiter: \",\"\n",
      "chr  (8): qseqid, sseqid, component, cinful_id, pephash, sample, contig, seq\n",
      "dbl (13): pident, length, mismatch, gapopen, qstart, qend, sstart, send, eva...\n",
      "lgl  (4): hmmerHit, verified, allStandardAA, signalMatch\n",
      "\n",
      "ℹ Use `spec()` to retrieve the full column specification for this data.\n",
      "ℹ Specify the column types or set `show_col_types = FALSE` to quiet this message.\n"
     ]
    }
   ],
   "source": [
    "%%R\n",
    "best_hits <- read_csv(\"data/Ecoli_pangenome_best_hits.csv\")"
   ]
  },
  {
   "cell_type": "code",
   "execution_count": 4,
   "metadata": {},
   "outputs": [],
   "source": [
    "%%R\n",
    "assemblySummary_ENAInformation <- read_excel(\"data/Ecoli_assemblySummary.xlsx\", sheet=\"ENA-Information\")"
   ]
  },
  {
   "cell_type": "code",
   "execution_count": 5,
   "metadata": {},
   "outputs": [
    {
     "name": "stdout",
     "output_type": "stream",
     "text": [
      "New names:\n",
      "• `` -> `...8`\n",
      "• `` -> `...20`\n",
      "• `` -> `...28`\n",
      "• `` -> `...35`\n",
      "# A tibble: 1,304 × 4\n",
      "   GEMBASE_NAME    phylogroup `Isolation source` `Strain Category`     \n",
      "   <chr>           <chr>      <chr>              <chr>                 \n",
      " 1 ESCO.0216.00064 A          Host-associated    Mammal_Faecal         \n",
      " 2 ESCO.0216.00065 B2         Environmental      Water                 \n",
      " 3 ESCO.0216.00066 B2         Host-associated    Human_Extra-intestinal\n",
      " 4 ESCO.0216.00067 B2         Host-associated    Human_Extra-intestinal\n",
      " 5 ESCO.0216.00068 B2         Host-associated    Mammal_Faecal         \n",
      " 6 ESCO.0216.00069 B2         Host-associated    Human_Extra-intestinal\n",
      " 7 ESCO.0216.00070 B2         Environmental      Water                 \n",
      " 8 ESCO.0216.00071 B1         Environmental      Water                 \n",
      " 9 ESCO.0216.00072 B2         Host-associated    Human_Intestinal      \n",
      "10 ESCO.0216.00073 D          Host-associated    Human_Intestinal      \n",
      "# … with 1,294 more rows\n"
     ]
    }
   ],
   "source": [
    "%%R -o assemblySummary_SequencedGenomes\n",
    "assemblySummary_SequencedGenomes <- read_excel(\"data/Ecoli_assemblySummary.xlsx\", sheet=\"Sequenced-Genomes\", skip=5) %>%\n",
    "\tseparate(\"Sequence_Name\",c(\"phylogroup\")) %>%\n",
    "\tselect(c(\"Genome_ID\",\"phylogroup\",\"Isolation source\",\"Strain Category\")) %>%\n",
    "\trename(\"GEMBASE_NAME\"=\"Genome_ID\") %>%\n",
    "\tdrop_na()\n",
    "\n",
    "assemblySummary_SequencedGenomes\n"
   ]
  },
  {
   "cell_type": "code",
   "execution_count": 6,
   "metadata": {},
   "outputs": [
    {
     "name": "stdout",
     "output_type": "stream",
     "text": [
      "Joining, by = \"GEMBASE_NAME\"\n",
      "# A tibble: 1,224 × 9\n",
      "   GEMBASE_NAME    ASSEMBLY_NAME ASSEMBLY_ACC  STUDY_ID   SAMPLE_ID  CONTIG_ACC \n",
      "   <chr>           <chr>         <chr>         <chr>      <chr>      <chr>      \n",
      " 1 ESCO.0216.00064 M919          GCA_902837545 PRJEB34791 ERS3882805 CADFUW0100…\n",
      " 2 ESCO.0216.00065 E5795         GCA_902837575 PRJEB34791 ERS3882806 CADFUZ0100…\n",
      " 3 ESCO.0216.00066 H219          GCA_902837605 PRJEB34791 ERS3882807 CADFVP0100…\n",
      " 4 ESCO.0216.00069 H144          GCA_902837675 PRJEB34791 ERS3882808 CADFVR0100…\n",
      " 5 ESCO.0216.00070 E7727         GCA_902837715 PRJEB34791 ERS3882809 CADFVL0100…\n",
      " 6 ESCO.0216.00071 E2508         GCA_902837615 PRJEB34791 ERS3882810 CADFVH0100…\n",
      " 7 ESCO.0216.00072 54_1_Ti6      GCA_902837705 PRJEB34791 ERS3882811 CADFVD0100…\n",
      " 8 ESCO.0216.00073 47_4_R1       GCA_902837625 PRJEB34791 ERS3882812 CADFVE0100…\n",
      " 9 ESCO.0216.00074 M714          GCA_902837745 PRJEB34791 ERS3882813 CADFVF0100…\n",
      "10 ESCO.0216.00075 E7615         GCA_902837655 PRJEB34791 ERS3882814 CADFVG0100…\n",
      "# … with 1,214 more rows, and 3 more variables: phylogroup <chr>,\n",
      "#   `Isolation source` <chr>, `Strain Category` <chr>\n"
     ]
    }
   ],
   "source": [
    "%%R -o assemblySummary_ENAInformation_phylogroup\n",
    "assemblySummary_ENAInformation_phylogroup <- assemblySummary_ENAInformation %>% \n",
    "\tfull_join(assemblySummary_SequencedGenomes) %>%\n",
    "\tdrop_na()\n",
    "\n",
    "assemblySummary_ENAInformation_phylogroup"
   ]
  },
  {
   "cell_type": "code",
   "execution_count": 7,
   "metadata": {},
   "outputs": [
    {
     "name": "stdout",
     "output_type": "stream",
     "text": [
      "# A tibble: 7,262 × 25\n",
      "   qseqid        sseqid pident length mismatch gapopen qstart  qend sstart  send\n",
      "   <chr>         <chr>   <dbl>  <dbl>    <dbl>   <dbl>  <dbl> <dbl>  <dbl> <dbl>\n",
      " 1 v1_PLS_987b1… E492_…   80.4     92       18       0      1    92      1    92\n",
      " 2 v1_PLS_07196… L_tr_…   99.0    102        1       0      1   102      4   105\n",
      " 3 v1_PLS_718e5… V_sp_…   81.2     16        3       0      1    16      1    16\n",
      " 4 v1_PLS_f46b0… V_sp_…  100      103        0       0      1   103      1   103\n",
      " 5 v1_PLS_f46b0… V_sp_…  100      103        0       0      1   103      1   103\n",
      " 6 v1_PLS_f46b0… V_sp_…  100      103        0       0      1   103      1   103\n",
      " 7 v1_PLS_f46b0… V_sp_…  100      103        0       0      1   103      1   103\n",
      " 8 v1_PLS_f46b0… V_sp_…  100      103        0       0      1   103      1   103\n",
      " 9 v1_PLS_f46b0… V_sp_…  100      103        0       0      1   103      1   103\n",
      "10 v1_PLS_f46b0… V_sp_…  100      103        0       0      1   103      1   103\n",
      "# … with 7,252 more rows, and 15 more variables: evalue <dbl>, bitscore <dbl>,\n",
      "#   component <chr>, hmmerHit <lgl>, verified <lgl>, ASSEMBLY_ACC <chr>,\n",
      "#   pephash <chr>, sample <chr>, contig <chr>, start <dbl>, stop <dbl>,\n",
      "#   strand <dbl>, allStandardAA <lgl>, seq <chr>, signalMatch <lgl>\n"
     ]
    }
   ],
   "source": [
    "%%R -o best_hits_assemblyID\n",
    "best_hits_assemblyID <- best_hits %>%\n",
    "\tseparate(cinful_id,c(NA, \"ASSEMBLY_ACC_ID\"), sep=\"/\") %>%\n",
    "\tseparate(ASSEMBLY_ACC_ID, c(\"ASSEMBLY_ACC\"), sep = \"[.]\")\n",
    "\n",
    "best_hits_assemblyID"
   ]
  },
  {
   "cell_type": "code",
   "execution_count": 8,
   "metadata": {},
   "outputs": [
    {
     "name": "stdout",
     "output_type": "stream",
     "text": [
      "Joining, by = \"ASSEMBLY_ACC\"\n",
      "# A tibble: 7,262 × 33\n",
      "   qseqid        sseqid pident length mismatch gapopen qstart  qend sstart  send\n",
      "   <chr>         <chr>   <dbl>  <dbl>    <dbl>   <dbl>  <dbl> <dbl>  <dbl> <dbl>\n",
      " 1 v1_PLS_987b1… E492_…   80.4     92       18       0      1    92      1    92\n",
      " 2 v1_PLS_07196… L_tr_…   99.0    102        1       0      1   102      4   105\n",
      " 3 v1_PLS_718e5… V_sp_…   81.2     16        3       0      1    16      1    16\n",
      " 4 v1_PLS_f46b0… V_sp_…  100      103        0       0      1   103      1   103\n",
      " 5 v1_PLS_f46b0… V_sp_…  100      103        0       0      1   103      1   103\n",
      " 6 v1_PLS_f46b0… V_sp_…  100      103        0       0      1   103      1   103\n",
      " 7 v1_PLS_f46b0… V_sp_…  100      103        0       0      1   103      1   103\n",
      " 8 v1_PLS_f46b0… V_sp_…  100      103        0       0      1   103      1   103\n",
      " 9 v1_PLS_f46b0… V_sp_…  100      103        0       0      1   103      1   103\n",
      "10 v1_PLS_f46b0… V_sp_…  100      103        0       0      1   103      1   103\n",
      "# … with 7,252 more rows, and 23 more variables: evalue <dbl>, bitscore <dbl>,\n",
      "#   component <chr>, hmmerHit <lgl>, verified <lgl>, ASSEMBLY_ACC <chr>,\n",
      "#   pephash <chr>, sample <chr>, contig <chr>, start <dbl>, stop <dbl>,\n",
      "#   strand <dbl>, allStandardAA <lgl>, seq <chr>, signalMatch <lgl>,\n",
      "#   GEMBASE_NAME <chr>, ASSEMBLY_NAME <chr>, STUDY_ID <chr>, SAMPLE_ID <chr>,\n",
      "#   CONTIG_ACC <chr>, phylogroup <chr>, `Isolation source` <chr>,\n",
      "#   `Strain Category` <chr>\n"
     ]
    }
   ],
   "source": [
    "%%R -o best_hits_phylogroup\n",
    "best_hits_phylogroup <- best_hits_assemblyID %>%\n",
    "\tfull_join(assemblySummary_ENAInformation_phylogroup) \n",
    "\n",
    "best_hits_phylogroup"
   ]
  },
  {
   "cell_type": "code",
   "execution_count": 9,
   "metadata": {},
   "outputs": [
    {
     "name": "stdout",
     "output_type": "stream",
     "text": [
      "`summarise()` has grouped output by 'sseqid'. You can override using the\n",
      "`.groups` argument.\n",
      "# A tibble: 50 × 3\n",
      "# Groups:   sseqid [9]\n",
      "   sseqid                     phylogroup     n\n",
      "   <chr>                      <chr>      <int>\n",
      " 1 E492_sp_Q9Z4N4_MCEA_KLEPN  B2             2\n",
      " 2 E492_sp_Q9Z4N4_MCEA_KLEPN  F              1\n",
      " 3 H47_sp_P62530_MCHB_ECOLX   A              1\n",
      " 4 H47_sp_P62530_MCHB_ECOLX   B1             5\n",
      " 5 H47_sp_P62530_MCHB_ECOLX   B2            24\n",
      " 6 H47_sp_P62530_MCHB_ECOLX   C              1\n",
      " 7 H47_sp_P62530_MCHB_ECOLX   D              6\n",
      " 8 H47_sp_P62530_MCHB_ECOLX   F              1\n",
      " 9 H47_sp_P62530_MCHB_ECOLX   H299           3\n",
      "10 I47_tr_Q712Q0_Q712Q0_ECOLX A              3\n",
      "# … with 40 more rows\n"
     ]
    }
   ],
   "source": [
    "%%R -o microcin_hits_perPhylogroup\n",
    "microcin_hits_perPhylogroup <- best_hits_phylogroup %>%\n",
    "\tfilter(component == \"microcins.verified\") %>%\n",
    "\tgroup_by(sseqid, phylogroup) %>%\n",
    "\tsummarise(n = n())\n",
    "microcin_hits_perPhylogroup"
   ]
  },
  {
   "cell_type": "code",
   "execution_count": 10,
   "metadata": {},
   "outputs": [
    {
     "name": "stdout",
     "output_type": "stream",
     "text": [
      "# A tibble: 50 × 3\n",
      "# Groups:   sseqid [9]\n",
      "   sseqid                     phylogroup     n\n",
      "   <chr>                      <chr>      <int>\n",
      " 1 E492_sp_Q9Z4N4_MCEA_KLEPN  B2             2\n",
      " 2 E492_sp_Q9Z4N4_MCEA_KLEPN  F              1\n",
      " 3 H47_sp_P62530_MCHB_ECOLX   A              1\n",
      " 4 H47_sp_P62530_MCHB_ECOLX   B1             5\n",
      " 5 H47_sp_P62530_MCHB_ECOLX   B2            24\n",
      " 6 H47_sp_P62530_MCHB_ECOLX   C              1\n",
      " 7 H47_sp_P62530_MCHB_ECOLX   D              6\n",
      " 8 H47_sp_P62530_MCHB_ECOLX   F              1\n",
      " 9 H47_sp_P62530_MCHB_ECOLX   H299           3\n",
      "10 I47_tr_Q712Q0_Q712Q0_ECOLX A              3\n",
      "# … with 40 more rows\n"
     ]
    }
   ],
   "source": [
    "%%R \n",
    "microcin_hits_perPhylogroup #%>%\n",
    "#\tpivot_wider(values_from=n, names_from=phylogroup)"
   ]
  },
  {
   "cell_type": "markdown",
   "metadata": {},
   "source": [
    "So that's where the data comes from. I just took the known phylogenetic relationships of the verified micrcoins, as well as the known relationships between the phylogroups and hand drew dendrograms such that each axis is phylogenetically sorted. Then the boxes were colored by the number, and left blank f NA\n",
    "\n",
    "Now we can do a little statistical assesment of how the phylogroups aren't equally represented in this analysis"
   ]
  },
  {
   "cell_type": "code",
   "execution_count": 11,
   "metadata": {},
   "outputs": [
    {
     "name": "stdout",
     "output_type": "stream",
     "text": [
      "# A tibble: 8 × 3\n",
      "  phylogroup n_assemblies freq_assemblies\n",
      "  <chr>             <int>           <dbl>\n",
      "1 A                   292          0.239 \n",
      "2 B1                  276          0.225 \n",
      "3 B2                  305          0.249 \n",
      "4 C                    16          0.0131\n",
      "5 D                   174          0.142 \n",
      "6 E                    59          0.0482\n",
      "7 F                    70          0.0572\n",
      "8 H299                 32          0.0261\n"
     ]
    }
   ],
   "source": [
    "%%R\n",
    "n_assembliesPhylogroup <- assemblySummary_ENAInformation_phylogroup %>%\n",
    "\tcount(phylogroup, name=\"n_assemblies\") %>%\n",
    "\tmutate(freq_assemblies = n_assemblies / sum(n_assemblies))\n",
    "n_assembliesPhylogroup"
   ]
  },
  {
   "cell_type": "code",
   "execution_count": 12,
   "metadata": {},
   "outputs": [
    {
     "name": "stdout",
     "output_type": "stream",
     "text": [
      "Joining, by = \"phylogroup\"\n",
      "# A tibble: 8 × 5\n",
      "  phylogroup n_microcins n_assemblies freq_assemblies expected_microcins\n",
      "  <chr>            <int>        <int>           <dbl>              <dbl>\n",
      "1 A                   57          292          0.239               96.9 \n",
      "2 B1                  67          276          0.225               91.5 \n",
      "3 B2                 168          305          0.249              101.  \n",
      "4 C                   15           16          0.0131               5.31\n",
      "5 D                   41          174          0.142               57.7 \n",
      "6 E                   12           59          0.0482              19.6 \n",
      "7 F                   19           70          0.0572              23.2 \n",
      "8 H299                27           32          0.0261              10.6 \n"
     ]
    }
   ],
   "source": [
    "%%R\n",
    "best_hits_phylogroup_expected <- best_hits_phylogroup %>%\n",
    "\tfilter(component == \"microcins.verified\") %>%\n",
    "\tgroup_by(phylogroup) %>%\n",
    "\tsummarise(n_microcins = n()) %>%\n",
    "\tfull_join(n_assembliesPhylogroup) %>%\n",
    "\tmutate(expected_microcins = sum(n_microcins) * freq_assemblies)\n",
    "best_hits_phylogroup_expected"
   ]
  },
  {
   "cell_type": "code",
   "execution_count": 13,
   "metadata": {},
   "outputs": [
    {
     "name": "stdout",
     "output_type": "stream",
     "text": [
      "\n",
      "\tChi-squared test for given probabilities\n",
      "\n",
      "data:  best_hits_phylogroup_expected$n_assemblies\n",
      "X-squared = 700.2, df = 7, p-value < 2.2e-16\n",
      "\n"
     ]
    }
   ],
   "source": [
    "%%R\n",
    "chisq.test(x = best_hits_phylogroup_expected$n_assemblies)\n"
   ]
  },
  {
   "cell_type": "code",
   "execution_count": 14,
   "metadata": {},
   "outputs": [
    {
     "name": "stdout",
     "output_type": "stream",
     "text": [
      "\n",
      "\tChi-squared test for given probabilities\n",
      "\n",
      "data:  best_hits_phylogroup_expected$n_microcins\n",
      "X-squared = 118.67, df = 7, p-value < 2.2e-16\n",
      "\n"
     ]
    }
   ],
   "source": [
    "%%R\n",
    "chisq.test(x = best_hits_phylogroup_expected$n_microcins, p = best_hits_phylogroup_expected$freq_assemblies)"
   ]
  }
 ],
 "metadata": {
  "interpreter": {
   "hash": "184da163bdcbc68ba00985bd6e7412525ff7507797be2878afd169be169c48f1"
  },
  "kernelspec": {
   "display_name": "Python 3 (ipykernel)",
   "language": "python",
   "name": "python3"
  },
  "language_info": {
   "codemirror_mode": {
    "name": "ipython",
    "version": 3
   },
   "file_extension": ".py",
   "mimetype": "text/x-python",
   "name": "python",
   "nbconvert_exporter": "python",
   "pygments_lexer": "ipython3",
   "version": "3.9.13"
  }
 },
 "nbformat": 4,
 "nbformat_minor": 2
}
