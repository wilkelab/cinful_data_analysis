{
 "cells": [
  {
   "cell_type": "code",
   "execution_count": 1,
   "metadata": {
    "pycharm": {
     "name": "#%%\n"
    }
   },
   "outputs": [],
   "source": [
    "%load_ext rpy2.ipython"
   ]
  },
  {
   "cell_type": "code",
   "execution_count": 2,
   "metadata": {
    "pycharm": {
     "name": "#%%\n"
    }
   },
   "outputs": [
    {
     "name": "stdout",
     "output_type": "stream",
     "text": [
      "── Attaching packages ─────────────────────────────────────── tidyverse 1.3.2 ──\n",
      "✔ ggplot2 3.3.6      ✔ purrr   0.3.5 \n",
      "✔ tibble  3.1.8      ✔ dplyr   1.0.10\n",
      "✔ tidyr   1.2.1      ✔ stringr 1.4.1 \n",
      "✔ readr   2.1.3      ✔ forcats 0.5.2 \n",
      "── Conflicts ────────────────────────────────────────── tidyverse_conflicts() ──\n",
      "✖ dplyr::filter() masks stats::filter()\n",
      "✖ dplyr::lag()    masks stats::lag()\n"
     ]
    }
   ],
   "source": [
    "%%R \n",
    "library(tidyverse)\n",
    "library(readxl)\n",
    "library(dplyr)\n",
    "library(broom)"
   ]
  },
  {
   "cell_type": "markdown",
   "metadata": {
    "pycharm": {
     "name": "#%% md\n"
    }
   },
   "source": [
    "# Load data\n",
    "\n",
    "The goal here is to determine the if certain environments are enriched for microcins. To do that we need information about the assemblies so that we can determine which environments they came from.\n"
   ]
  },
  {
   "cell_type": "code",
   "execution_count": 3,
   "metadata": {},
   "outputs": [
    {
     "name": "stdout",
     "output_type": "stream",
     "text": [
      "New names:\n",
      "• `` -> `...4`\n",
      "• `` -> `...13`\n",
      "• `` -> `...14`\n",
      "• `` -> `...22`\n",
      "• `` -> `...32`\n",
      "• `` -> `...37`\n",
      "• `` -> `...38`\n",
      "• `` -> `...39`\n",
      "• `` -> `...40`\n",
      "• `` -> `...41`\n",
      "• `` -> `...42`\n",
      "• `` -> `...50`\n",
      "• `` -> `...57`\n",
      "• `` -> `...65`\n",
      "• `` -> `...71`\n",
      "• `` -> `...74`\n",
      "• `` -> `...75`\n",
      "• `` -> `...76`\n",
      "• `` -> `...80`\n",
      "• `` -> `...83`\n",
      "• `` -> `...84`\n",
      "# A tibble: 1,294 × 2\n",
      "   Genome_ID       phylogroup\n",
      "   <chr>           <chr>     \n",
      " 1 ESCO.0216.00064 A         \n",
      " 2 ESCO.0216.00065 B2        \n",
      " 3 ESCO.0216.00066 B2        \n",
      " 4 ESCO.0216.00067 B2        \n",
      " 5 ESCO.0216.00068 B2        \n",
      " 6 ESCO.0216.00069 B2        \n",
      " 7 ESCO.0216.00070 B2        \n",
      " 8 ESCO.0216.00071 B1        \n",
      " 9 ESCO.0216.00072 B2        \n",
      "10 ESCO.0216.00073 D         \n",
      "# … with 1,284 more rows\n",
      "# ℹ Use `print(n = ...)` to see more rows\n"
     ]
    }
   ],
   "source": [
    "%%R\n",
    "\n",
    "Australian_Dataset <- read_excel(\"data/Ecoli_assemblySummary.xlsx\", sheet=\"Australian-Dataset\", skip=4) %>%\n",
    "    select(c(\"Genome_ID\",\"Phylogroup\"))%>%\n",
    "\trename(\"phylogroup\"=\"Phylogroup\")%>%\n",
    "    drop_na()\n",
    "\n",
    "Australian_Dataset "
   ]
  },
  {
   "cell_type": "code",
   "execution_count": 4,
   "metadata": {},
   "outputs": [
    {
     "name": "stdout",
     "output_type": "stream",
     "text": [
      "New names:\n",
      "• `` -> `...8`\n",
      "• `` -> `...20`\n",
      "• `` -> `...28`\n",
      "• `` -> `...35`\n",
      "# A tibble: 1,302 × 4\n",
      "   Genome_ID       `Isolation source` `Strain Category`      phylogroup\n",
      "   <chr>           <chr>              <chr>                  <chr>     \n",
      " 1 ESCO.0216.00064 Host-associated    Mammal_Faecal          A         \n",
      " 2 ESCO.0216.00065 Environmental      Water                  B2        \n",
      " 3 ESCO.0216.00066 Host-associated    Human_Extra-intestinal B2        \n",
      " 4 ESCO.0216.00067 Host-associated    Human_Extra-intestinal B2        \n",
      " 5 ESCO.0216.00068 Host-associated    Mammal_Faecal          B2        \n",
      " 6 ESCO.0216.00069 Host-associated    Human_Extra-intestinal B2        \n",
      " 7 ESCO.0216.00070 Environmental      Water                  B2        \n",
      " 8 ESCO.0216.00071 Environmental      Water                  B1        \n",
      " 9 ESCO.0216.00072 Host-associated    Human_Intestinal       B2        \n",
      "10 ESCO.0216.00073 Host-associated    Human_Intestinal       D         \n",
      "# … with 1,292 more rows\n",
      "# ℹ Use `print(n = ...)` to see more rows\n"
     ]
    }
   ],
   "source": [
    "%%R\n",
    "\n",
    "assemblySummary_SequencedGenomes <- read_excel(\"data/Ecoli_assemblySummary.xlsx\", \n",
    "                                               sheet=\"Sequenced-Genomes\", skip=5) %>%\n",
    "\tselect(c(\"Genome_ID\",\"Isolation source\",\"Strain Category\")) %>%\n",
    "    drop_na()%>%\n",
    "#Remove 'Alone' and 'Soil' samples\n",
    "\tfilter(`Strain Category` != \"Alone\") %>%\n",
    "\tfilter(`Strain Category` != \"Soil\")%>%\n",
    "#Removing three further samples that were categorized by Touchon as Alone\n",
    "    filter(Genome_ID != \"ESCO.0216.00100\") %>%\n",
    "    filter(Genome_ID != \"ESCO.0216.00262\") %>%\n",
    "    filter(Genome_ID != \"ESCO.0216.00275\") %>%\n",
    "#adding in phylogenetic data from above\n",
    "    full_join(Australian_Dataset, by = \"Genome_ID\") #%>%\n",
    "#    drop_na()\n",
    "\n",
    "assemblySummary_SequencedGenomes #has missing two"
   ]
  },
  {
   "cell_type": "code",
   "execution_count": 5,
   "metadata": {
    "pycharm": {
     "name": "#%%\n"
    }
   },
   "outputs": [
    {
     "name": "stdout",
     "output_type": "stream",
     "text": [
      "Rows: 7537 Columns: 25\n",
      "── Column specification ────────────────────────────────────────────────────────\n",
      "Delimiter: \",\"\n",
      "chr  (8): qseqid, sseqid, component, cinful_id, pephash, sample, contig, seq\n",
      "dbl (13): pident, length, mismatch, gapopen, qstart, qend, sstart, send, eva...\n",
      "lgl  (4): hmmerHit, verified, allStandardAA, signalMatch\n",
      "\n",
      "ℹ Use `spec()` to retrieve the full column specification for this data.\n",
      "ℹ Specify the column types or set `show_col_types = FALSE` to quiet this message.\n",
      "# A tibble: 286 × 25\n",
      "   qseqid         sseqid pident length misma…¹ gapopen qstart  qend sstart  send\n",
      "   <chr>          <chr>   <dbl>  <dbl>   <dbl>   <dbl>  <dbl> <dbl>  <dbl> <dbl>\n",
      " 1 v1_PLS_db490a… H47_s…  100       75       0       0     23    97      1    75\n",
      " 2 v1_PLS_db490a… H47_s…  100       75       0       0     23    97      1    75\n",
      " 3 v1_PLS_db490a… H47_s…  100       75       0       0     23    97      1    75\n",
      " 4 v1_PLS_db490a… H47_s…  100       75       0       0     23    97      1    75\n",
      " 5 v1_PLS_db490a… H47_s…  100       75       0       0     23    97      1    75\n",
      " 6 v1_PLS_db490a… H47_s…  100       75       0       0     23    97      1    75\n",
      " 7 v1_PLS_db490a… H47_s…  100       75       0       0     23    97      1    75\n",
      " 8 v1_PLS_db490a… H47_s…  100       75       0       0     23    97      1    75\n",
      " 9 v1_PLS_7e75dd… I47_t…   93.0     57       4       0      1    57      1    57\n",
      "10 v1_PLS_220169… V_sp_…   26.9    104      50       3      1    86      1    96\n",
      "# … with 276 more rows, 15 more variables: evalue <dbl>, bitscore <dbl>,\n",
      "#   component <chr>, hmmerHit <lgl>, verified <lgl>, ASSEMBLY_ACC <chr>,\n",
      "#   pephash <chr>, sample <chr>, contig <chr>, start <dbl>, stop <dbl>,\n",
      "#   strand <dbl>, allStandardAA <lgl>, seq <chr>, signalMatch <lgl>, and\n",
      "#   abbreviated variable name ¹​mismatch\n",
      "# ℹ Use `print(n = ...)` to see more rows, and `colnames()` to see all variable names\n"
     ]
    }
   ],
   "source": [
    "%%R\n",
    "\n",
    "best_hits <- read_csv(\"data/best_hits_Touchon2020_2022.08.15.csv\")\n",
    "\n",
    "best_hits_assemblyID <- best_hits %>%\n",
    "\tseparate(cinful_id,c(\"ASSEMBLY_ACC_ID\"), sep=\"/\") %>%\n",
    "\tseparate(ASSEMBLY_ACC_ID, c(\"ASSEMBLY_ACC\"), sep = \"[.]\") %>%\n",
    "    distinct(ASSEMBLY_ACC, .keep_all = TRUE)%>%\n",
    "\tfilter(component == \"microcins.verified\") %>%\n",
    "    filter (hmmerHit == TRUE) %>%\n",
    "    drop_na()\n",
    "\n",
    "best_hits_assemblyID #286 genomes with microcin hits"
   ]
  },
  {
   "cell_type": "code",
   "execution_count": 6,
   "metadata": {
    "pycharm": {
     "name": "#%%\n"
    }
   },
   "outputs": [
    {
     "name": "stdout",
     "output_type": "stream",
     "text": [
      "# A tibble: 1,213 × 9\n",
      "   Genome_ID     Isola…¹ Strai…² phylo…³ ASSEM…⁴ ASSEM…⁵ STUDY…⁶ SAMPL…⁷ CONTI…⁸\n",
      "   <chr>         <chr>   <chr>   <chr>   <chr>   <chr>   <chr>   <chr>   <chr>  \n",
      " 1 ESCO.0216.00… Host-a… Mammal… A       M919    GCA_90… PRJEB3… ERS388… CADFUW…\n",
      " 2 ESCO.0216.00… Enviro… Water   B2      E5795   GCA_90… PRJEB3… ERS388… CADFUZ…\n",
      " 3 ESCO.0216.00… Host-a… Human_… B2      H219    GCA_90… PRJEB3… ERS388… CADFVP…\n",
      " 4 ESCO.0216.00… Host-a… Human_… B2      H144    GCA_90… PRJEB3… ERS388… CADFVR…\n",
      " 5 ESCO.0216.00… Enviro… Water   B2      E7727   GCA_90… PRJEB3… ERS388… CADFVL…\n",
      " 6 ESCO.0216.00… Enviro… Water   B1      E2508   GCA_90… PRJEB3… ERS388… CADFVH…\n",
      " 7 ESCO.0216.00… Host-a… Human_… B2      54_1_T… GCA_90… PRJEB3… ERS388… CADFVD…\n",
      " 8 ESCO.0216.00… Host-a… Human_… D       47_4_R1 GCA_90… PRJEB3… ERS388… CADFVE…\n",
      " 9 ESCO.0216.00… Host-a… Mammal… B2      M714    GCA_90… PRJEB3… ERS388… CADFVF…\n",
      "10 ESCO.0216.00… Enviro… Water   B2      E7615   GCA_90… PRJEB3… ERS388… CADFVG…\n",
      "# … with 1,203 more rows, and abbreviated variable names ¹​`Isolation source`,\n",
      "#   ²​`Strain Category`, ³​phylogroup, ⁴​ASSEMBLY_NAME, ⁵​ASSEMBLY_ACC, ⁶​STUDY_ID,\n",
      "#   ⁷​SAMPLE_ID, ⁸​CONTIG_ACC\n",
      "# ℹ Use `print(n = ...)` to see more rows\n"
     ]
    }
   ],
   "source": [
    "%%R \n",
    "\n",
    "assemblySummary_ENAInformation <- read_excel(\"data/Ecoli_assemblySummary.xlsx\", sheet=\"ENA-Information\") %>%\n",
    "    rename(\"Genome_ID\" = \"GEMBASE_NAME\")\n",
    "\n",
    "assemblySummary_Annotated <- assemblySummary_SequencedGenomes %>%\n",
    "\tright_join(assemblySummary_ENAInformation, by=\"Genome_ID\") %>%\n",
    "\tdrop_na()\n",
    "\n",
    "assemblySummary_Annotated #%>% #1213 genomes\n",
    "#\twrite_csv(\"data/supplemental/assemblySummary_Annotated.csv\")"
   ]
  },
  {
   "cell_type": "code",
   "execution_count": 7,
   "metadata": {
    "pycharm": {
     "name": "#%%\n"
    }
   },
   "outputs": [
    {
     "name": "stdout",
     "output_type": "stream",
     "text": [
      "Joining, by = \"ASSEMBLY_ACC\"\n",
      "# A tibble: 284 × 5\n",
      "   ASSEMBLY_ACC  phylogroup sseqid                     verified Strain Categor…¹\n",
      "   <chr>         <chr>      <chr>                      <lgl>    <chr>           \n",
      " 1 GCA_902858915 F          H47_sp_P62530_MCHB_ECOLX   FALSE    Human_Intestinal\n",
      " 2 GCA_902846155 B1         H47_sp_P62530_MCHB_ECOLX   FALSE    Human_Intestinal\n",
      " 3 GCA_902849625 G          H47_sp_P62530_MCHB_ECOLX   FALSE    Human_Faecal    \n",
      " 4 GCA_902840795 D          H47_sp_P62530_MCHB_ECOLX   FALSE    Mammal_Faecal   \n",
      " 5 GCA_902840495 B1         H47_sp_P62530_MCHB_ECOLX   FALSE    Mammal_Faecal   \n",
      " 6 GCA_902844105 A          H47_sp_P62530_MCHB_ECOLX   FALSE    Human_Faecal    \n",
      " 7 GCA_902846895 B1         H47_sp_P62530_MCHB_ECOLX   FALSE    Water           \n",
      " 8 GCA_902842745 B1         H47_sp_P62530_MCHB_ECOLX   FALSE    Water           \n",
      " 9 GCA_902844605 A          I47_tr_Q712Q0_Q712Q0_ECOLX FALSE    Human_Extra-int…\n",
      "10 GCA_902849245 G          V_sp_P22522_CEAV_ECOLX     FALSE    Human_Extra-int…\n",
      "# … with 274 more rows, and abbreviated variable name ¹​`Strain Category`\n",
      "# ℹ Use `print(n = ...)` to see more rows\n"
     ]
    }
   ],
   "source": [
    "%%R\n",
    "\n",
    "best_hits_assemblyID_Annotated <- best_hits_assemblyID %>% #this contains 286 microcin hits\n",
    "\tleft_join(assemblySummary_Annotated) %>% #this contains 1213 genomes with other information\n",
    "\tselect(ASSEMBLY_ACC, phylogroup, sseqid, verified, `Strain Category`) %>%\n",
    "    drop_na(c(`Strain Category`, verified))\n",
    "\n",
    "\n",
    "best_hits_assemblyID_Annotated"
   ]
  },
  {
   "cell_type": "code",
   "execution_count": 8,
   "metadata": {},
   "outputs": [
    {
     "name": "stdout",
     "output_type": "stream",
     "text": [
      "[1] 284\n"
     ]
    }
   ],
   "source": [
    "%%R\n",
    "\n",
    "hits_phylogroup_by_category <- table(best_hits_assemblyID_Annotated$phylogroup, best_hits_assemblyID_Annotated$`Strain Category`)\n",
    "\n",
    "table(best_hits_assemblyID_Annotated$phylogroup, best_hits_assemblyID_Annotated$`Strain Category`)\n",
    "\n",
    "sum(table(best_hits_assemblyID_Annotated$phylogroup, best_hits_assemblyID_Annotated$`Strain Category`))"
   ]
  },
  {
   "cell_type": "code",
   "execution_count": 9,
   "metadata": {},
   "outputs": [
    {
     "name": "stdout",
     "output_type": "stream",
     "text": [
      "    \n",
      "     Bird_Faecal Human_Extra-intestinal Human_Faecal Human_Intestinal\n",
      "  A           51                     19           35               20\n",
      "  B1          46                      1            0               28\n",
      "  B2          31                     64           22               73\n",
      "  C            1                      5            4                1\n",
      "  D           29                      0            0               44\n",
      "  E            8                      0            0                1\n",
      "  F           17                     13            7                5\n",
      "  G            2                      2            4                0\n",
      "    \n",
      "     Mammal_Faecal Poultry_Meat Water\n",
      "  A             21           89    56\n",
      "  B1            27           48   123\n",
      "  B2            35           37    38\n",
      "  C              0            4     1\n",
      "  D             27           43    31\n",
      "  E              4           28    15\n",
      "  F              3           17     9\n",
      "  G              0           17     7\n"
     ]
    }
   ],
   "source": [
    "%%R\n",
    "\n",
    "all_phylogroup_by_category <- table(assemblySummary_Annotated$phylogroup, assemblySummary_Annotated$`Strain Category`)\n",
    "\n",
    "table(assemblySummary_Annotated$phylogroup, assemblySummary_Annotated$`Strain Category`)"
   ]
  },
  {
   "cell_type": "code",
   "execution_count": 10,
   "metadata": {
    "pycharm": {
     "name": "#%%\n"
    }
   },
   "outputs": [
    {
     "name": "stdout",
     "output_type": "stream",
     "text": [
      "[1] 284\n",
      "[1] \"/\"\n",
      "[1] 1213\n",
      "[1] \"=\"\n",
      "[1] 0.2341303\n"
     ]
    }
   ],
   "source": [
    "%%R\n",
    "\n",
    "#Frequency of microcin per assembly\n",
    "microcinAssemblyProportion <- length(best_hits_assemblyID_Annotated$ASSEMBLY_ACC)/length(assemblySummary_Annotated$ASSEMBLY_ACC)\n",
    "\n",
    "print(length(best_hits_assemblyID_Annotated$ASSEMBLY_ACC))\n",
    "print(\"/\")\n",
    "print(length(assemblySummary_Annotated$ASSEMBLY_ACC))\n",
    "print(\"=\")\n",
    "print(microcinAssemblyProportion)\n"
   ]
  },
  {
   "cell_type": "code",
   "execution_count": 11,
   "metadata": {
    "pycharm": {
     "name": "#%%\n"
    }
   },
   "outputs": [
    {
     "name": "stdout",
     "output_type": "stream",
     "text": [
      "# A tibble: 7 × 2\n",
      "  `Strain Category`      total_assemblies\n",
      "  <chr>                             <int>\n",
      "1 Bird_Faecal                         185\n",
      "2 Human_Extra-intestinal              104\n",
      "3 Human_Faecal                         72\n",
      "4 Human_Intestinal                    172\n",
      "5 Mammal_Faecal                       117\n",
      "6 Poultry_Meat                        283\n",
      "7 Water                               280\n"
     ]
    }
   ],
   "source": [
    "%%R\n",
    "strain_category_assemblies <- assemblySummary_Annotated %>%\n",
    "\tcount(`Strain Category`, name=\"total_assemblies\")\n",
    "strain_category_assemblies"
   ]
  },
  {
   "cell_type": "code",
   "execution_count": 12,
   "metadata": {
    "pycharm": {
     "name": "#%%\n"
    }
   },
   "outputs": [
    {
     "name": "stdout",
     "output_type": "stream",
     "text": [
      "Joining, by = \"Strain Category\"\n",
      "# A tibble: 7 × 6\n",
      "  `Strain Category`      microcin total_assemblies relative_mic…¹  odds      LOE\n",
      "  <chr>                     <int>            <int>          <dbl> <dbl>    <dbl>\n",
      "1 Bird_Faecal                  42              185         0.227  0.970 -0.0134 \n",
      "2 Human_Extra-intestinal       46              104         0.442  1.89   0.276  \n",
      "3 Human_Faecal                 17               72         0.236  1.01   0.00366\n",
      "4 Human_Intestinal             33              172         0.192  0.819 -0.0865 \n",
      "5 Mammal_Faecal                26              117         0.222  0.949 -0.0227 \n",
      "6 Poultry_Meat                 94              283         0.332  1.42   0.152  \n",
      "7 Water                        26              280         0.0929 0.397 -0.402  \n",
      "# … with abbreviated variable name ¹​relative_microcin\n"
     ]
    }
   ],
   "source": [
    "%%R -w 1500\n",
    "\n",
    "microcin_strain_category <- best_hits_assemblyID_Annotated %>%\n",
    "\tcount(`Strain Category`, name = \"microcin\") %>%\n",
    "\tfull_join(strain_category_assemblies) %>%\n",
    "\tmutate(relative_microcin = microcin / total_assemblies) %>%\n",
    "\tmutate(odds = relative_microcin/(microcinAssemblyProportion)) %>%\n",
    "\tmutate(LOE = log10(odds)) %>%\n",
    "\tdrop_na() \n",
    "#microcin_strain_category <- microcin_strain_category %>%\n",
    "#\tmutate(assembly_freq = total_assemblies#/sum(total_assemblies)\n",
    "\n",
    "microcin_strain_category\n"
   ]
  },
  {
   "cell_type": "code",
   "execution_count": 13,
   "metadata": {},
   "outputs": [
    {
     "name": "stdout",
     "output_type": "stream",
     "text": [
      "\n",
      "\tChi-squared test for given probabilities\n",
      "\n",
      "data:  microcin_strain_category$total_assemblies\n",
      "X-squared = 241.17, df = 6, p-value < 2.2e-16\n",
      "\n"
     ]
    }
   ],
   "source": [
    "%%R\n",
    "#Chi square present in paper before figure 5\n",
    "\n",
    "microcin_strain_category_chisq <- chisq.test(microcin_strain_category$total_assemblies)\n",
    "microcin_strain_category_chisq"
   ]
  },
  {
   "cell_type": "code",
   "execution_count": 14,
   "metadata": {},
   "outputs": [
    {
     "name": "stdout",
     "output_type": "stream",
     "text": [
      "\n",
      "\tChi-squared test for given probabilities\n",
      "\n",
      "data:  microcin_strain_category$microcin\n",
      "X-squared = 56.158, df = 6, p-value = 2.705e-10\n",
      "\n"
     ]
    }
   ],
   "source": [
    "%%R\n",
    "\n",
    "freqs = microcin_strain_category$total_assemblies/sum(microcin_strain_category$total_assemblies)\n",
    "\n",
    "microcin_strain_category_freq_chisq <- chisq.test(x = microcin_strain_category$microcin, p=freqs)\n",
    "\n",
    "microcin_strain_category_freq_chisq"
   ]
  },
  {
   "cell_type": "code",
   "execution_count": 15,
   "metadata": {},
   "outputs": [
    {
     "name": "stdout",
     "output_type": "stream",
     "text": [
      "# A tibble: 8 × 6\n",
      "  `Strain Category`     microcin total_assemblies relative_micr…¹  odds      LOE\n",
      "  <chr>                    <int>            <int>           <dbl> <dbl>    <dbl>\n",
      "1 Bird Fecal                  42              185          0.227  0.970 -0.0134 \n",
      "2 Human Extraintestinal       46              104          0.442  1.89   0.276  \n",
      "3 Human Fecal                 17               72          0.236  1.01   0.00366\n",
      "4 Human Intestinal            33              172          0.192  0.819 -0.0865 \n",
      "5 Mammal Fecal                26              117          0.222  0.949 -0.0227 \n",
      "6 Poultry Meat                94              283          0.332  1.42   0.152  \n",
      "7 Water                       26              280          0.0929 0.397 -0.402  \n",
      "8 Total                      284             1213          1.74   7.45  -0.0924 \n",
      "# … with abbreviated variable name ¹​relative_microcin\n"
     ]
    }
   ],
   "source": [
    "%%R\n",
    "microcin_strain_category #<- microcin_strain_category %>%\n",
    "microcin_strain_category$`Strain Category` <- c(\"Bird Fecal\", \"Human Extraintestinal\", \"Human Fecal\", \"Human Intestinal\", \"Mammal Fecal\", \"Poultry Meat\", \"Water\")\n",
    "\n",
    "#\twrite_csv(\"data/supplemental/Touchon_categories_microcins.csv\")\n",
    "\n",
    "microcin_strain_category %>%\n",
    "    bind_rows(summarise_all(., ~if(is.numeric(.)) sum(.) else \"Total\"))\n",
    "\n"
   ]
  },
  {
   "cell_type": "code",
   "execution_count": 16,
   "metadata": {},
   "outputs": [
    {
     "name": "stdout",
     "output_type": "stream",
     "text": [
      "# A tibble: 7 × 10\n",
      "  group       odds_…¹ p.value conf.…² conf.…³ method alter…⁴   p.adj label hjust\n",
      "  <fct>         <dbl>   <dbl>   <dbl>   <dbl> <chr>  <chr>     <dbl> <chr> <dbl>\n",
      "1 Bird Fecal    0.970 9.28e-1   0.660   1.40  Fishe… two.si… 1   e+0 \"\"      1.1\n",
      "2 Human Extr…   1.89  1.22e-3   1.27    2.77  Fishe… two.si… 4.28e-3 \"**\"   -0.1\n",
      "3 Human Fecal   1.01  1   e+0   0.548   1.76  Fishe… two.si… 1   e+0 \"\"     -0.1\n",
      "4 Human Inte…   0.820 3.41e-1   0.535   1.23  Fishe… two.si… 5.96e-1 \"\"      1.1\n",
      "5 Mammal Fec…   0.949 9.11e-1   0.584   1.49  Fishe… two.si… 1   e+0 \"\"      1.1\n",
      "6 Poultry Me…   1.42  1.19e-2   1.07    1.86  Fishe… two.si… 2.77e-2 \"*\"    -0.1\n",
      "7 Water         0.397 2.83e-6   0.250   0.608 Fishe… two.si… 1.98e-5 \"***\"   1.1\n",
      "# … with abbreviated variable names ¹​odds_ratio, ²​conf.low, ³​conf.high,\n",
      "#   ⁴​alternative\n"
     ]
    }
   ],
   "source": [
    "%%R\n",
    "\n",
    "touchon <- microcin_strain_category %>%\n",
    "    select(c(`Strain Category`,total_assemblies,microcin)) %>%\n",
    "\trename(\"group\"=\"Strain Category\") %>%\n",
    "\trename(\"samples\"=\"total_assemblies\") %>%\n",
    "\trename(\"hits\"=\"microcin\")\n",
    "\n",
    "samples_tot <- sum(touchon$samples)\n",
    "hits_tot <- sum(touchon$hits)\n",
    "\n",
    "fisher_results <- touchon %>%\n",
    "  mutate(\n",
    "    fit = map2(\n",
    "      samples, hits,\n",
    "      ~fisher.test(cbind(c(samples_tot, .x), c(hits_tot, .y)))\n",
    "    ),\n",
    "    glance_out = map(fit, glance)\n",
    "  ) %>%\n",
    "  select(group, glance_out) %>%\n",
    "  unnest(cols = glance_out) %>%\n",
    "  mutate(\n",
    "    # adjust for multiple testing\n",
    "    p.adj = p.adjust(p.value, method = \"fdr\"),\n",
    "    # sort\n",
    "    group = fct_reorder(group, estimate),\n",
    "    # significance label\n",
    "    label = case_when(\n",
    "      p.adj < 0.001 ~ \"***\",\n",
    "      p.adj < 0.01 ~ \"**\",\n",
    "      p.adj < 0.05 ~ \"*\",\n",
    "      TRUE ~ \"\"\n",
    "    ),\n",
    "    # for label justification\n",
    "    hjust = ifelse(estimate < 1, 1.1, -0.1)\n",
    "  ) %>%\n",
    "  rename(\n",
    "    odds_ratio = estimate\n",
    "  )\n",
    "\n",
    "fisher_results"
   ]
  },
  {
   "cell_type": "code",
   "execution_count": 21,
   "metadata": {},
   "outputs": [
    {
     "data": {
      "image/png": "[encoded data removed]"
     },
     "metadata": {},
     "output_type": "display_data"
    }
   ],
   "source": [
    "%%R -w 800\n",
    "\n",
    "ggplot(fisher_results, aes(x = odds_ratio, y = reorder(group, odds_ratio)), log=\"x\") +\n",
    "    geom_col() +\n",
    "    geom_text(aes(label = label, hjust = hjust), size = 8, vjust = 0.8) +\n",
    "    scale_x_log10(\n",
    "        limits = c(10^-0.5, 10^0.3),\n",
    "        breaks = scales::trans_breaks(\"log10\", function(x) 10^x),\n",
    "        labels = scales::trans_format(\"log10\", scales::math_format(.x))\n",
    "                )+\n",
    "    geom_bar(stat = \"identity\", position = \"identity\", fill = \"#aabbcaff\", color=\"black\") +\n",
    "        ylab(NULL) + \n",
    "        xlab(\"Odds ratio of assemblies with microcins across isolation sources\") +\n",
    "        theme_bw() +\n",
    "        theme(text = element_text(size = 20))\n",
    "\n",
    "#ggsave(\"plots/05_ecoli_microcin_environment_updated_hmm_final.svg\")"
   ]
  }
 ],
 "metadata": {
  "interpreter": {
   "hash": "184da163bdcbc68ba00985bd6e7412525ff7507797be2878afd169be169c48f1"
  },
  "kernelspec": {
   "display_name": "Python 3 (ipykernel)",
   "language": "python",
   "name": "python3"
  },
  "language_info": {
   "codemirror_mode": {
    "name": "ipython",
    "version": 3
   },
   "file_extension": ".py",
   "mimetype": "text/x-python",
   "name": "python",
   "nbconvert_exporter": "python",
   "pygments_lexer": "ipython3",
   "version": "3.9.13"
  }
 },
 "nbformat": 4,
 "nbformat_minor": 2
}
