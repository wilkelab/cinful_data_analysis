{
 "cells": [
  {
   "cell_type": "markdown",
   "metadata": {
    "pycharm": {
     "name": "#%% md\n"
    }
   },
   "source": [
    "# Load libraries"
   ]
  },
  {
   "cell_type": "code",
   "execution_count": 1,
   "metadata": {},
   "outputs": [],
   "source": [
    "import pandas as pd"
   ]
  },
  {
   "cell_type": "code",
   "execution_count": 2,
   "metadata": {
    "pycharm": {
     "name": "#%%\n"
    }
   },
   "outputs": [],
   "source": [
    "%load_ext rpy2.ipython"
   ]
  },
  {
   "cell_type": "code",
   "execution_count": 3,
   "metadata": {
    "pycharm": {
     "name": "#%%\n"
    }
   },
   "outputs": [
    {
     "name": "stderr",
     "output_type": "stream",
     "text": [
      "R[write to console]: ── Attaching packages ─────────────────────────────────────── tidyverse 1.3.1 ──\n",
      "\n",
      "R[write to console]: ✔ ggplot2 3.3.6     ✔ purrr   0.3.4\n",
      "✔ tibble  3.1.7     ✔ dplyr   1.0.9\n",
      "✔ tidyr   1.2.0     ✔ stringr 1.4.0\n",
      "✔ readr   2.1.2     ✔ forcats 0.5.1\n",
      "\n",
      "R[write to console]: ── Conflicts ────────────────────────────────────────── tidyverse_conflicts() ──\n",
      "✖ dplyr::filter() masks stats::filter()\n",
      "✖ dplyr::lag()    masks stats::lag()\n",
      "\n"
     ]
    }
   ],
   "source": [
    "%%R\n",
    "library(readxl)\n",
    "library(treemapify)\n",
    "library(treemap)\n",
    "library(tidyverse)\n",
    "library(cowplot)\n",
    "library(dplyr)"
   ]
  },
  {
   "cell_type": "markdown",
   "metadata": {
    "pycharm": {
     "name": "#%% md\n"
    }
   },
   "source": [
    "# Load data"
   ]
  },
  {
   "cell_type": "code",
   "execution_count": 5,
   "metadata": {
    "pycharm": {
     "name": "#%%\n"
    }
   },
   "outputs": [
    {
     "name": "stdout",
     "output_type": "stream",
     "text": [
      "Rows: 7537 Columns: 25\n",
      "── Column specification ────────────────────────────────────────────────────────\n",
      "Delimiter: \",\"\n",
      "chr  (8): qseqid, sseqid, component, cinful_id, pephash, sample, contig, seq\n",
      "dbl (13): pident, length, mismatch, gapopen, qstart, qend, sstart, send, eva...\n",
      "lgl  (4): hmmerHit, verified, allStandardAA, signalMatch\n",
      "\n",
      "ℹ Use `spec()` to retrieve the full column specification for this data.\n",
      "ℹ Specify the column types or set `show_col_types = FALSE` to quiet this message.\n"
     ]
    }
   ],
   "source": [
    "%%R -o best_hits\n",
    "best_hits <- read_csv(\"data/best_hits_Touchon2020_2022.08.15.csv\")"
   ]
  },
  {
   "cell_type": "markdown",
   "metadata": {
    "pycharm": {
     "name": "#%% md\n"
    }
   },
   "source": [
    "The primary goal here is to understand the diversity of identified microcins in _E. coli_ genome assemblies. In this regard, we split assemblies into two classes:\n",
    "\n",
    "2. Verified microcins \n",
    "   - These assemblies had a protein with the exact same sequence as the verified microcin sequences known in the literature\n",
    "3. novel\n",
    "   - These assemblies contained a match using BLAST and HMM to a verified microcin, though it is agnostic of how well the match is or any other components that were identified in the assembly.\n",
    "\n",
    "What we will do is make a treemap to make two rectangles whose areas correspond to the number of assemblies that belong to each of these two groups. Verified and novel sequences zones contain various different protein sequences, and so will have sub rectangles whose areas correspond the amount of assemblies that had a given protein sequence.\n",
    "\n",
    "## Data to be visualized\n",
    "This contains, the sequence, unique identifier, whether or not it was verified."
   ]
  },
  {
   "cell_type": "code",
   "execution_count": 6,
   "metadata": {},
   "outputs": [
    {
     "name": "stdout",
     "output_type": "stream",
     "text": [
      "[1] \"Number of genomes with PUTATIVE microcins identified by Cinful:\"\n",
      "[1] 313\n",
      "[1] \"Number of unique peptides identified as microcins by Cinful:\"\n",
      "[1] 101\n"
     ]
    }
   ],
   "source": [
    "%%R\n",
    "\n",
    "n_genome <- best_hits %>%\n",
    "    filter(component == \"microcins.verified\") %>%\n",
    "    count(sample) %>%\n",
    "    nrow()\n",
    "\n",
    "n_put <- best_hits %>%\n",
    "    filter(component == \"microcins.verified\") %>%\n",
    "    count(pephash) %>%\n",
    "    nrow()\n",
    "\n",
    "print(\"Number of genomes with PUTATIVE microcins identified by Cinful:\")\n",
    "print(n_genome)\n",
    "\n",
    "print(\"Number of unique peptides identified as microcins by Cinful:\")\n",
    "print(n_put)\n",
    "#Number of putative microcins identified (no check for HMMer hits)\n"
   ]
  },
  {
   "cell_type": "code",
   "execution_count": 7,
   "metadata": {
    "scrolled": true
   },
   "outputs": [
    {
     "name": "stdout",
     "output_type": "stream",
     "text": [
      "[1] \"Number of TOTAL sample genomes with HMMer verified microcins:\"\n",
      "[1] 288\n",
      "[1] \"Number of unique microcin sequences verified by HMMer:\"\n",
      "[1] 64\n"
     ]
    }
   ],
   "source": [
    "%%R\n",
    "\n",
    "count_of_hmmer_hits <- best_hits %>%\n",
    "    filter(component == \"microcins.verified\") %>%\n",
    "    filter(hmmerHit == TRUE) %>%\n",
    "    count(sample) %>%\n",
    "    nrow()\n",
    "\n",
    "\n",
    "tot_uniq_hmmer_peptides <- best_hits %>%\n",
    "    filter(component == \"microcins.verified\") %>%\n",
    "    filter(hmmerHit == TRUE) %>%\n",
    "    count(pephash) %>%\n",
    "    nrow()\n",
    "\n",
    "print(\"Number of TOTAL sample genomes with HMMer verified microcins:\")\n",
    "print(count_of_hmmer_hits)\n",
    "\n",
    "print(\"Number of unique microcin sequences verified by HMMer:\")\n",
    "print(tot_uniq_hmmer_peptides)\n",
    "\n",
    "#Number of genomes with microcins that pass HMMer"
   ]
  },
  {
   "cell_type": "code",
   "execution_count": 8,
   "metadata": {
    "scrolled": true
   },
   "outputs": [
    {
     "name": "stdout",
     "output_type": "stream",
     "text": [
      "[1] \"Number of sample genomes with KNOWN microcins:\"\n",
      "[1] 211\n",
      "[1] \"Number of KNOWN microcins identified:\"\n",
      "[1] 6\n"
     ]
    }
   ],
   "source": [
    "%%R \n",
    "\n",
    "n_ver_genomes <- best_hits %>%\n",
    "    filter(component == \"microcins.verified\") %>%\n",
    "    filter(hmmerHit == TRUE) %>%\n",
    "    filter(verified == TRUE) %>%\n",
    "    count(sample) %>%\n",
    "    nrow()\n",
    "\n",
    "print(\"Number of sample genomes with KNOWN microcins:\")\n",
    "print(n_ver_genomes)\n",
    "\n",
    "verified_microcin_peptides <- best_hits %>%\n",
    "    filter(component == \"microcins.verified\") %>%\n",
    "    filter(hmmerHit == TRUE) %>%\n",
    "    filter(verified == TRUE) %>%\n",
    "    count(pephash) %>%\n",
    "    nrow()\n",
    "\n",
    "print(\"Number of KNOWN microcins identified:\")\n",
    "print(verified_microcin_peptides)"
   ]
  },
  {
   "cell_type": "code",
   "execution_count": 10,
   "metadata": {},
   "outputs": [
    {
     "name": "stdout",
     "output_type": "stream",
     "text": [
      "[1] \"Number of sample genomes with UNKNOWN microcins:\"\n",
      "[1] 113\n",
      "[1] \"Number of UNKNOWN microcins identified:\"\n",
      "[1] 58\n"
     ]
    }
   ],
   "source": [
    "%%R\n",
    "\n",
    "n_unk_genomes <- best_hits %>%\n",
    "    filter(component == \"microcins.verified\") %>%\n",
    "    filter(hmmerHit == TRUE) %>%\n",
    "    filter(verified == FALSE) %>%\n",
    "    count(sample) %>%\n",
    "    nrow()\n",
    "\n",
    "print(\"Number of sample genomes with UNKNOWN microcins:\")\n",
    "print(n_unk_genomes)\n",
    "\n",
    "n_unk_microcins <- best_hits %>%\n",
    "    filter(component == \"microcins.verified\") %>%\n",
    "    filter(hmmerHit == TRUE) %>%\n",
    "    filter(verified == FALSE) %>%\n",
    "    count(pephash) %>%\n",
    "    nrow()\n",
    "\n",
    "print(\"Number of UNKNOWN microcins identified:\")\n",
    "print(n_unk_microcins)\n"
   ]
  },
  {
   "cell_type": "code",
   "execution_count": 11,
   "metadata": {
    "pycharm": {
     "name": "#%%\n"
    }
   },
   "outputs": [
    {
     "name": "stdout",
     "output_type": "stream",
     "text": [
      "[1] \"Total genome assemblies analyzed:\"\n",
      "[1] 1224\n",
      "[1] \"Samples with HMMER hits:\"\n",
      "[1] 288\n",
      "[1] \"Samples without HMMER hits:\"\n",
      "[1] 936\n"
     ]
    }
   ],
   "source": [
    "%%R\n",
    "num_samples <- nrow(unique(best_hits[,\"sample\"]))\n",
    "\n",
    "samples_wo_HMMER_microcins <- num_samples - as.integer(count_of_hmmer_hits)\n",
    "\n",
    "print(\"Total genome assemblies analyzed:\")\n",
    "print(num_samples)\n",
    "print(\"Samples with HMMER hits:\")\n",
    "print(count_of_hmmer_hits)\n",
    "print(\"Samples without HMMER hits:\")\n",
    "print(samples_wo_HMMER_microcins)"
   ]
  },
  {
   "cell_type": "code",
   "execution_count": 12,
   "metadata": {},
   "outputs": [
    {
     "name": "stdout",
     "output_type": "stream",
     "text": [
      "[1] 288\n",
      "[1] 211\n",
      "[1] 113\n",
      "[1] 36\n"
     ]
    }
   ],
   "source": [
    "%%R\n",
    "\n",
    "#Total genomes with hmmer-verified microcins \n",
    "A <- best_hits %>%\n",
    "    filter(component == \"microcins.verified\") %>%\n",
    "    filter(hmmerHit == TRUE) %>%\n",
    "    count(sample)\n",
    "A\n",
    "#288\n",
    "\n",
    "#Total genomes with hmmer-verified microcins that are a 100% match to previously known microcins\n",
    "B <- best_hits %>%\n",
    "    filter(component == \"microcins.verified\") %>%\n",
    "    filter(hmmerHit == TRUE) %>%\n",
    "    filter(verified == TRUE) %>%\n",
    "    count(sample)\n",
    "B\n",
    "#211\n",
    "\n",
    "#Total genomes with hmmer-verified microcins that do not match previously known microcins (novel)\n",
    "C <- best_hits %>%\n",
    "    filter(component == \"microcins.verified\") %>%\n",
    "    filter(hmmerHit == TRUE) %>%\n",
    "    filter(verified == FALSE) %>%\n",
    "    count(sample)\n",
    "C\n",
    "#113\n",
    "\n",
    "#Total genomes with both previously known and novel microcins\n",
    "inner_join(B[,1], C[,1], by = \"sample\")\n",
    "\n",
    "print(nrow(A))\n",
    "print(nrow(B))\n",
    "print(nrow(C))\n",
    "print(nrow(inner_join(B[,1], C[,1], by = \"sample\")))\n",
    "\n",
    "\n",
    "#    write_csv(\"data/supplemental/count_of_6_verified_microcins.csv\")"
   ]
  },
  {
   "cell_type": "code",
   "execution_count": 13,
   "metadata": {
    "pycharm": {
     "name": "#%%\n"
    },
    "scrolled": true
   },
   "outputs": [
    {
     "name": "stdout",
     "output_type": "stream",
     "text": [
      "`summarise()` has grouped output by 'pephash', 'verified', 'sample'. You can\n",
      "override using the `.groups` argument.\n",
      "# A tibble: 365 × 5\n",
      "   pephash                                           verified sample seq       n\n",
      "   <chr>                                             <fct>    <chr>  <chr> <int>\n",
      " 1 v1_PLS_030767dd6c0e5686eef2a8cbf65d305c761e4b8fc… FALSE    GCA_9… MREI…     1\n",
      " 2 v1_PLS_030767dd6c0e5686eef2a8cbf65d305c761e4b8fc… FALSE    GCA_9… MREI…     1\n",
      " 3 v1_PLS_0719676e795eaed3af7fb25fcc33805c9c4a26902… FALSE    GCA_9… ITLN…     1\n",
      " 4 v1_PLS_162b4d1d19ac7e08ea0998616fd4a878ff9bbec04… FALSE    GCA_9… MRTL…     1\n",
      " 5 v1_PLS_17d83a4d72fa714b8588985e84dc7828d8113227b… FALSE    GCA_9… YVFF…     1\n",
      " 6 v1_PLS_1a8057dff938353b9638f6258b4cf9f4f34d47a3b… FALSE    GCA_9… MVKR…     1\n",
      " 7 v1_PLS_1a8057dff938353b9638f6258b4cf9f4f34d47a3b… FALSE    GCA_9… MVKR…     1\n",
      " 8 v1_PLS_1cddbead564a238a4068fa38deea45eb3eccc207d… FALSE    GCA_9… MASI…     1\n",
      " 9 v1_PLS_2201698b4769e017fab30bcefc9e64ce3bb721713… FALSE    GCA_9… MRNI…     1\n",
      "10 v1_PLS_2201698b4769e017fab30bcefc9e64ce3bb721713… FALSE    GCA_9… MRNI…     1\n",
      "# … with 355 more rows\n"
     ]
    }
   ],
   "source": [
    "%%R\n",
    "treemap_data <- best_hits %>%\n",
    "\tfilter(component == \"microcins.verified\") %>%\n",
    "    filter(hmmerHit == TRUE) %>%\n",
    "\tgroup_by(pephash,verified,sample,seq) %>% summarise(n = n()) %>%\n",
    "\tungroup() %>%\n",
    "\tmutate(verified = as.factor(verified)) %>%\n",
    "#\tadd_row(pephash=NA, verified=\"no_microcin\", n=samples_wo_microcins) %>%\n",
    "\twrite_csv(\"data/supplemental/Ecoli_microcin_treemap_data.csv\")\n",
    "\n",
    "treemap_data"
   ]
  },
  {
   "cell_type": "markdown",
   "metadata": {
    "pycharm": {
     "name": "#%% md\n"
    }
   },
   "source": [
    "## Treemap generation"
   ]
  },
  {
   "cell_type": "code",
   "execution_count": 14,
   "metadata": {
    "pycharm": {
     "name": "#%%\n"
    }
   },
   "outputs": [
    {
     "name": "stdout",
     "output_type": "stream",
     "text": [
      "`summarise()` has grouped output by 'pephash', 'verified'. You can override\n",
      "using the `.groups` argument.\n"
     ]
    },
    {
     "data": {
      "image/png": "[encoded data removed]"
     },
     "metadata": {},
     "output_type": "display_data"
    }
   ],
   "source": [
    "%%R -w 800 -h 400\n",
    "best_hits_TM <- best_hits %>%\n",
    "\tfilter(component == \"microcins.verified\") %>%\n",
    "\tfilter(hmmerHit == TRUE) %>%\n",
    "\tgroup_by(pephash,verified,sample) %>% summarise(n = n()) %>%\n",
    "\tungroup() %>%\n",
    "\tmutate(verified = as.factor(verified)) %>%\n",
    "#Uncomment row below to include all 1224 assemblies including those without HMM-verified microcin hits\n",
    "#\tadd_row(pephash=NA, verified=\"no_microcin\",n=samples_wo_microcins) %>% \n",
    "\ttreemap(\n",
    "\t\tindex = c(\"verified\",\"pephash\"),\n",
    "        vSize = \"n\",\n",
    "\t\tborder.col=c(\"black\",\"white\"),\n",
    "    \tborder.lwds=c(3,2.5),\n",
    "\t\tfontsize.labels=c(0,0),\n",
    "\t\tpalette = c(\"#b6d9e8\",\"#ffd1d1\")\n",
    "\t)\n",
    "\n",
    "# Uncomment below to save\n",
    "#ggsave(\"plots/AF/03_Sankey_plot_FINAL.svg\", width = 4, height = 2, units = c(\"in\"))\n"
   ]
  },
  {
   "cell_type": "markdown",
   "metadata": {
    "pycharm": {
     "name": "#%% md\n"
    }
   },
   "source": [
    "# Data for table\n"
   ]
  },
  {
   "cell_type": "code",
   "execution_count": 15,
   "metadata": {
    "pycharm": {
     "name": "#%%\n"
    }
   },
   "outputs": [],
   "source": [
    "%%R\n",
    "best_hits %>%\n",
    "\tfilter(component == \"microcins.verified\") %>%\n",
    "\tfilter(verified == FALSE) %>%\n",
    "\tfilter(hmmerHit == TRUE) %>%\n",
    "\tcount(seq, sseqid, pident) %>%\n",
    "\twrite_csv(\"data/supplemental/Ecoli_microcin_novel.csv\")"
   ]
  }
 ],
 "metadata": {
  "interpreter": {
   "hash": "184da163bdcbc68ba00985bd6e7412525ff7507797be2878afd169be169c48f1"
  },
  "kernelspec": {
   "display_name": "Python 3 (ipykernel)",
   "language": "python",
   "name": "python3"
  },
  "language_info": {
   "codemirror_mode": {
    "name": "ipython",
    "version": 3
   },
   "file_extension": ".py",
   "mimetype": "text/x-python",
   "name": "python",
   "nbconvert_exporter": "python",
   "pygments_lexer": "ipython3",
   "version": "3.9.13"
  }
 },
 "nbformat": 4,
 "nbformat_minor": 2
}
