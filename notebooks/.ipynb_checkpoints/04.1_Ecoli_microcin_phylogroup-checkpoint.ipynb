{
 "cells": [
  {
   "cell_type": "markdown",
   "metadata": {},
   "source": [
    "I'm pretty limited for this figure, because I drew most of it by hand in inkscape, which isn't always the best idea. Nevertheless, I can atleast go through the process of generating the data for that figure."
   ]
  },
  {
   "cell_type": "markdown",
   "metadata": {},
   "source": [
    "# Libraries"
   ]
  },
  {
   "cell_type": "code",
   "execution_count": 1,
   "metadata": {},
   "outputs": [],
   "source": [
    "%load_ext rpy2.ipython"
   ]
  },
  {
   "cell_type": "code",
   "execution_count": 2,
   "metadata": {},
   "outputs": [
    {
     "name": "stdout",
     "output_type": "stream",
     "text": [
      "── Attaching packages ─────────────────────────────────────── tidyverse 1.3.2 ──\n",
      "✔ ggplot2 3.3.6      ✔ purrr   0.3.5 \n",
      "✔ tibble  3.1.8      ✔ dplyr   1.0.10\n",
      "✔ tidyr   1.2.1      ✔ stringr 1.4.1 \n",
      "✔ readr   2.1.3      ✔ forcats 0.5.2 \n",
      "── Conflicts ────────────────────────────────────────── tidyverse_conflicts() ──\n",
      "✖ dplyr::filter() masks stats::filter()\n",
      "✖ dplyr::lag()    masks stats::lag()\n"
     ]
    },
    {
     "name": "stderr",
     "output_type": "stream",
     "text": [
      "R[write to console]: corrplot 0.92 loaded\n",
      "\n"
     ]
    }
   ],
   "source": [
    "%%R \n",
    "library(tidyverse)\n",
    "library(readxl)\n",
    "library(corrplot)"
   ]
  },
  {
   "cell_type": "markdown",
   "metadata": {},
   "source": [
    "# Data"
   ]
  },
  {
   "cell_type": "code",
   "execution_count": 3,
   "metadata": {},
   "outputs": [
    {
     "name": "stdout",
     "output_type": "stream",
     "text": [
      "Rows: 7262 Columns: 25\n",
      "── Column specification ────────────────────────────────────────────────────────\n",
      "Delimiter: \",\"\n",
      "chr  (8): qseqid, sseqid, component, cinful_id, pephash, sample, contig, seq\n",
      "dbl (13): pident, length, mismatch, gapopen, qstart, qend, sstart, send, eva...\n",
      "lgl  (4): hmmerHit, verified, allStandardAA, signalMatch\n",
      "\n",
      "ℹ Use `spec()` to retrieve the full column specification for this data.\n",
      "ℹ Specify the column types or set `show_col_types = FALSE` to quiet this message.\n",
      "# A tibble: 769 × 25\n",
      "   qseqid         sseqid pident length misma…¹ gapopen qstart  qend sstart  send\n",
      "   <chr>          <chr>   <dbl>  <dbl>   <dbl>   <dbl>  <dbl> <dbl>  <dbl> <dbl>\n",
      " 1 v1_PLS_987b1c… E492_…   80.4     92      18       0      1    92      1    92\n",
      " 2 v1_PLS_071967… L_tr_…   99.0    102       1       0      1   102      4   105\n",
      " 3 v1_PLS_718e57… V_sp_…   81.2     16       3       0      1    16      1    16\n",
      " 4 v1_PLS_f46b02… V_sp_…  100      103       0       0      1   103      1   103\n",
      " 5 v1_PLS_f46b02… V_sp_…  100      103       0       0      1   103      1   103\n",
      " 6 v1_PLS_f46b02… V_sp_…  100      103       0       0      1   103      1   103\n",
      " 7 v1_PLS_f46b02… V_sp_…  100      103       0       0      1   103      1   103\n",
      " 8 v1_PLS_f46b02… V_sp_…  100      103       0       0      1   103      1   103\n",
      " 9 v1_PLS_f46b02… V_sp_…  100      103       0       0      1   103      1   103\n",
      "10 v1_PLS_f46b02… V_sp_…  100      103       0       0      1   103      1   103\n",
      "# … with 759 more rows, 15 more variables: evalue <dbl>, bitscore <dbl>,\n",
      "#   component <chr>, hmmerHit <lgl>, verified <lgl>, cinful_id <chr>,\n",
      "#   pephash <chr>, sample <chr>, contig <chr>, start <dbl>, stop <dbl>,\n",
      "#   strand <dbl>, allStandardAA <lgl>, seq <chr>, signalMatch <lgl>, and\n",
      "#   abbreviated variable name ¹​mismatch\n",
      "# ℹ Use `print(n = ...)` to see more rows, and `colnames()` to see all variable names\n"
     ]
    }
   ],
   "source": [
    "%%R\n",
    "best_hits <- read_csv(\"data/Ecoli_pangenome_best_hits.csv\")\n",
    "\n",
    "best_hits_hmmer <- best_hits %>%\n",
    "    filter(hmmerHit == TRUE)\n",
    "\n",
    "best_hits_hmmer"
   ]
  },
  {
   "cell_type": "code",
   "execution_count": 4,
   "metadata": {},
   "outputs": [],
   "source": [
    "%%R\n",
    "assemblySummary_ENAInformation <- read_excel(\"data/Ecoli_assemblySummary.xlsx\", sheet=\"ENA-Information\")"
   ]
  },
  {
   "cell_type": "code",
   "execution_count": 5,
   "metadata": {},
   "outputs": [
    {
     "name": "stdout",
     "output_type": "stream",
     "text": [
      "New names:\n",
      "• `` -> `...8`\n",
      "• `` -> `...20`\n",
      "• `` -> `...28`\n",
      "• `` -> `...35`\n",
      "# A tibble: 1,304 × 3\n",
      "   GEMBASE_NAME    `Isolation source` `Strain Category`     \n",
      "   <chr>           <chr>              <chr>                 \n",
      " 1 ESCO.0216.00064 Host-associated    Mammal_Faecal         \n",
      " 2 ESCO.0216.00065 Environmental      Water                 \n",
      " 3 ESCO.0216.00066 Host-associated    Human_Extra-intestinal\n",
      " 4 ESCO.0216.00067 Host-associated    Human_Extra-intestinal\n",
      " 5 ESCO.0216.00068 Host-associated    Mammal_Faecal         \n",
      " 6 ESCO.0216.00069 Host-associated    Human_Extra-intestinal\n",
      " 7 ESCO.0216.00070 Environmental      Water                 \n",
      " 8 ESCO.0216.00071 Environmental      Water                 \n",
      " 9 ESCO.0216.00072 Host-associated    Human_Intestinal      \n",
      "10 ESCO.0216.00073 Host-associated    Human_Intestinal      \n",
      "# … with 1,294 more rows\n",
      "# ℹ Use `print(n = ...)` to see more rows\n"
     ]
    }
   ],
   "source": [
    "%%R -o assemblySummary_SequencedGenomes\n",
    "assemblySummary_SequencedGenomes <- read_excel(\"data/Ecoli_assemblySummary.xlsx\", sheet=\"Sequenced-Genomes\", skip=5) %>%\n",
    "#\tseparate(\"Sequence_Name\",c(\"phylogroup\")) %>%\n",
    "\tselect(c(\"Genome_ID\",\"Isolation source\",\"Strain Category\")) %>%\n",
    "\trename(\"GEMBASE_NAME\"=\"Genome_ID\") %>%\n",
    "\tdrop_na()\n",
    "\n",
    "\n",
    "assemblySummary_SequencedGenomes"
   ]
  },
  {
   "cell_type": "code",
   "execution_count": 6,
   "metadata": {},
   "outputs": [
    {
     "name": "stdout",
     "output_type": "stream",
     "text": [
      "New names:\n",
      "• `` -> `...4`\n",
      "• `` -> `...13`\n",
      "• `` -> `...14`\n",
      "• `` -> `...22`\n",
      "• `` -> `...32`\n",
      "• `` -> `...37`\n",
      "• `` -> `...38`\n",
      "• `` -> `...39`\n",
      "• `` -> `...40`\n",
      "• `` -> `...41`\n",
      "• `` -> `...42`\n",
      "• `` -> `...50`\n",
      "• `` -> `...57`\n",
      "• `` -> `...65`\n",
      "• `` -> `...71`\n",
      "• `` -> `...74`\n",
      "• `` -> `...75`\n",
      "• `` -> `...76`\n",
      "• `` -> `...80`\n",
      "• `` -> `...83`\n",
      "• `` -> `...84`\n",
      "Joining, by = \"GEMBASE_NAME\"\n",
      "# A tibble: 1,294 × 4\n",
      "   GEMBASE_NAME    phylogroup `Isolation source` `Strain Category`     \n",
      "   <chr>           <chr>      <chr>              <chr>                 \n",
      " 1 ESCO.0216.00064 A          Host-associated    Mammal_Faecal         \n",
      " 2 ESCO.0216.00065 B2         Environmental      Water                 \n",
      " 3 ESCO.0216.00066 B2         Host-associated    Human_Extra-intestinal\n",
      " 4 ESCO.0216.00067 B2         Host-associated    Human_Extra-intestinal\n",
      " 5 ESCO.0216.00068 B2         Host-associated    Mammal_Faecal         \n",
      " 6 ESCO.0216.00069 B2         Host-associated    Human_Extra-intestinal\n",
      " 7 ESCO.0216.00070 B2         Environmental      Water                 \n",
      " 8 ESCO.0216.00071 B1         Environmental      Water                 \n",
      " 9 ESCO.0216.00072 B2         Host-associated    Human_Intestinal      \n",
      "10 ESCO.0216.00073 D          Host-associated    Human_Intestinal      \n",
      "# … with 1,284 more rows\n",
      "# ℹ Use `print(n = ...)` to see more rows\n"
     ]
    }
   ],
   "source": [
    "%%R -o assemblySummary_AustralianDataset\n",
    "assemblySummary_AustralianDataset <- read_excel(\"data/Ecoli_assemblySummary.xlsx\", sheet=\"Australian-Dataset\", skip=4) %>%\n",
    "\tselect(c(\"Genome_ID\",\"Phylogroup\")) %>%\n",
    "\trename(\"GEMBASE_NAME\"=\"Genome_ID\") %>%\n",
    "\tfull_join(assemblySummary_SequencedGenomes) %>%\n",
    "\trename(\"phylogroup\"=\"Phylogroup\") %>%\n",
    "\tdrop_na()\n",
    "\n",
    "\n",
    "assemblySummary_AustralianDataset"
   ]
  },
  {
   "cell_type": "code",
   "execution_count": 7,
   "metadata": {},
   "outputs": [
    {
     "name": "stdout",
     "output_type": "stream",
     "text": [
      "Joining, by = \"GEMBASE_NAME\"\n",
      "# A tibble: 1,224 × 9\n",
      "   GEMBASE_NAME  phylo…¹ Isola…² Strai…³ ASSEM…⁴ ASSEM…⁵ STUDY…⁶ SAMPL…⁷ CONTI…⁸\n",
      "   <chr>         <chr>   <chr>   <chr>   <chr>   <chr>   <chr>   <chr>   <chr>  \n",
      " 1 ESCO.0216.00… A       Host-a… Mammal… M919    GCA_90… PRJEB3… ERS388… CADFUW…\n",
      " 2 ESCO.0216.00… B2      Enviro… Water   E5795   GCA_90… PRJEB3… ERS388… CADFUZ…\n",
      " 3 ESCO.0216.00… B2      Host-a… Human_… H219    GCA_90… PRJEB3… ERS388… CADFVP…\n",
      " 4 ESCO.0216.00… B2      Host-a… Human_… H144    GCA_90… PRJEB3… ERS388… CADFVR…\n",
      " 5 ESCO.0216.00… B2      Enviro… Water   E7727   GCA_90… PRJEB3… ERS388… CADFVL…\n",
      " 6 ESCO.0216.00… B1      Enviro… Water   E2508   GCA_90… PRJEB3… ERS388… CADFVH…\n",
      " 7 ESCO.0216.00… B2      Host-a… Human_… 54_1_T… GCA_90… PRJEB3… ERS388… CADFVD…\n",
      " 8 ESCO.0216.00… D       Host-a… Human_… 47_4_R1 GCA_90… PRJEB3… ERS388… CADFVE…\n",
      " 9 ESCO.0216.00… B2      Host-a… Mammal… M714    GCA_90… PRJEB3… ERS388… CADFVF…\n",
      "10 ESCO.0216.00… B2      Enviro… Water   E7615   GCA_90… PRJEB3… ERS388… CADFVG…\n",
      "# … with 1,214 more rows, and abbreviated variable names ¹​phylogroup,\n",
      "#   ²​`Isolation source`, ³​`Strain Category`, ⁴​ASSEMBLY_NAME, ⁵​ASSEMBLY_ACC,\n",
      "#   ⁶​STUDY_ID, ⁷​SAMPLE_ID, ⁸​CONTIG_ACC\n",
      "# ℹ Use `print(n = ...)` to see more rows\n"
     ]
    }
   ],
   "source": [
    "%%R -o assemblySummary_ENAInformation_phylogroup\n",
    "assemblySummary_ENAInformation_phylogroup <- assemblySummary_AustralianDataset %>% \n",
    "\tfull_join(assemblySummary_ENAInformation) %>%\n",
    "\tdrop_na()\n",
    "\n",
    "assemblySummary_ENAInformation_phylogroup"
   ]
  },
  {
   "cell_type": "code",
   "execution_count": 8,
   "metadata": {},
   "outputs": [
    {
     "name": "stdout",
     "output_type": "stream",
     "text": [
      "# A tibble: 769 × 25\n",
      "   qseqid         sseqid pident length misma…¹ gapopen qstart  qend sstart  send\n",
      "   <chr>          <chr>   <dbl>  <dbl>   <dbl>   <dbl>  <dbl> <dbl>  <dbl> <dbl>\n",
      " 1 v1_PLS_987b1c… E492_…   80.4     92      18       0      1    92      1    92\n",
      " 2 v1_PLS_071967… L_tr_…   99.0    102       1       0      1   102      4   105\n",
      " 3 v1_PLS_718e57… V_sp_…   81.2     16       3       0      1    16      1    16\n",
      " 4 v1_PLS_f46b02… V_sp_…  100      103       0       0      1   103      1   103\n",
      " 5 v1_PLS_f46b02… V_sp_…  100      103       0       0      1   103      1   103\n",
      " 6 v1_PLS_f46b02… V_sp_…  100      103       0       0      1   103      1   103\n",
      " 7 v1_PLS_f46b02… V_sp_…  100      103       0       0      1   103      1   103\n",
      " 8 v1_PLS_f46b02… V_sp_…  100      103       0       0      1   103      1   103\n",
      " 9 v1_PLS_f46b02… V_sp_…  100      103       0       0      1   103      1   103\n",
      "10 v1_PLS_f46b02… V_sp_…  100      103       0       0      1   103      1   103\n",
      "# … with 759 more rows, 15 more variables: evalue <dbl>, bitscore <dbl>,\n",
      "#   component <chr>, hmmerHit <lgl>, verified <lgl>, ASSEMBLY_ACC <chr>,\n",
      "#   pephash <chr>, sample <chr>, contig <chr>, start <dbl>, stop <dbl>,\n",
      "#   strand <dbl>, allStandardAA <lgl>, seq <chr>, signalMatch <lgl>, and\n",
      "#   abbreviated variable name ¹​mismatch\n",
      "# ℹ Use `print(n = ...)` to see more rows, and `colnames()` to see all variable names\n"
     ]
    }
   ],
   "source": [
    "%%R -o best_hits_assemblyID\n",
    "best_hits_assemblyID <- best_hits_hmmer %>%\n",
    "\tseparate(cinful_id,c(NA, \"ASSEMBLY_ACC_ID\"), sep=\"/\") %>%\n",
    "\tseparate(ASSEMBLY_ACC_ID, c(\"ASSEMBLY_ACC\"), sep = \"[.]\")\n",
    "\n",
    "best_hits_assemblyID"
   ]
  },
  {
   "cell_type": "code",
   "execution_count": 9,
   "metadata": {},
   "outputs": [
    {
     "name": "stdout",
     "output_type": "stream",
     "text": [
      "Joining, by = \"ASSEMBLY_ACC\"\n",
      "# A tibble: 1,676 × 33\n",
      "   qseqid         sseqid pident length misma…¹ gapopen qstart  qend sstart  send\n",
      "   <chr>          <chr>   <dbl>  <dbl>   <dbl>   <dbl>  <dbl> <dbl>  <dbl> <dbl>\n",
      " 1 v1_PLS_987b1c… E492_…   80.4     92      18       0      1    92      1    92\n",
      " 2 v1_PLS_071967… L_tr_…   99.0    102       1       0      1   102      4   105\n",
      " 3 v1_PLS_718e57… V_sp_…   81.2     16       3       0      1    16      1    16\n",
      " 4 v1_PLS_f46b02… V_sp_…  100      103       0       0      1   103      1   103\n",
      " 5 v1_PLS_f46b02… V_sp_…  100      103       0       0      1   103      1   103\n",
      " 6 v1_PLS_f46b02… V_sp_…  100      103       0       0      1   103      1   103\n",
      " 7 v1_PLS_f46b02… V_sp_…  100      103       0       0      1   103      1   103\n",
      " 8 v1_PLS_f46b02… V_sp_…  100      103       0       0      1   103      1   103\n",
      " 9 v1_PLS_f46b02… V_sp_…  100      103       0       0      1   103      1   103\n",
      "10 v1_PLS_f46b02… V_sp_…  100      103       0       0      1   103      1   103\n",
      "# … with 1,666 more rows, 23 more variables: evalue <dbl>, bitscore <dbl>,\n",
      "#   component <chr>, hmmerHit <lgl>, verified <lgl>, ASSEMBLY_ACC <chr>,\n",
      "#   pephash <chr>, sample <chr>, contig <chr>, start <dbl>, stop <dbl>,\n",
      "#   strand <dbl>, allStandardAA <lgl>, seq <chr>, signalMatch <lgl>,\n",
      "#   GEMBASE_NAME <chr>, phylogroup <chr>, `Isolation source` <chr>,\n",
      "#   `Strain Category` <chr>, ASSEMBLY_NAME <chr>, STUDY_ID <chr>,\n",
      "#   SAMPLE_ID <chr>, CONTIG_ACC <chr>, and abbreviated variable name …\n",
      "# ℹ Use `print(n = ...)` to see more rows, and `colnames()` to see all variable names\n"
     ]
    }
   ],
   "source": [
    "%%R -o best_hits_phylogroup\n",
    "best_hits_phylogroup <- best_hits_assemblyID %>%\n",
    "\tfull_join(assemblySummary_ENAInformation_phylogroup)\n",
    "\n",
    "best_hits_phylogroup"
   ]
  },
  {
   "cell_type": "code",
   "execution_count": 10,
   "metadata": {},
   "outputs": [
    {
     "name": "stdout",
     "output_type": "stream",
     "text": [
      "`summarise()` has grouped output by 'sseqid'. You can override using the\n",
      "`.groups` argument.\n",
      "# A tibble: 42 × 3\n",
      "# Groups:   sseqid [8]\n",
      "   sseqid                     phylogroup     n\n",
      "   <chr>                      <chr>      <int>\n",
      " 1 E492_sp_Q9Z4N4_MCEA_KLEPN  F              1\n",
      " 2 H47_sp_P62530_MCHB_ECOLX   A              1\n",
      " 3 H47_sp_P62530_MCHB_ECOLX   B1             5\n",
      " 4 H47_sp_P62530_MCHB_ECOLX   B2            23\n",
      " 5 H47_sp_P62530_MCHB_ECOLX   C              1\n",
      " 6 H47_sp_P62530_MCHB_ECOLX   D              5\n",
      " 7 H47_sp_P62530_MCHB_ECOLX   F              1\n",
      " 8 H47_sp_P62530_MCHB_ECOLX   G              3\n",
      " 9 I47_tr_Q712Q0_Q712Q0_ECOLX A              2\n",
      "10 I47_tr_Q712Q0_Q712Q0_ECOLX B1             5\n",
      "# … with 32 more rows\n",
      "# ℹ Use `print(n = ...)` to see more rows\n"
     ]
    }
   ],
   "source": [
    "%%R -o microcin_hits_perPhylogroup\n",
    "microcin_hits_perPhylogroup <- best_hits_phylogroup %>%\n",
    "\tfilter(component == \"microcins.verified\") %>%\n",
    "\tgroup_by(sseqid, phylogroup) %>%\n",
    "\tsummarise(n = n())\n",
    "\n",
    "microcin_hits_perPhylogroup# %>%\n",
    "#\twrite_csv(\"data/supplemental/microcin_hits_perPhylogroup.csv\")"
   ]
  },
  {
   "cell_type": "code",
   "execution_count": 11,
   "metadata": {},
   "outputs": [
    {
     "name": "stdout",
     "output_type": "stream",
     "text": [
      "# A tibble: 8 × 9\n",
      "# Groups:   sseqid [8]\n",
      "  sseqid                         F     A    B1    B2     C     D     G     E\n",
      "  <chr>                      <int> <int> <int> <int> <int> <int> <int> <int>\n",
      "1 E492_sp_Q9Z4N4_MCEA_KLEPN      1    NA    NA    NA    NA    NA    NA    NA\n",
      "2 H47_sp_P62530_MCHB_ECOLX       1     1     5    23     1     5     3    NA\n",
      "3 I47_tr_Q712Q0_Q712Q0_ECOLX     1     2     5     5     1     6     3    NA\n",
      "4 L_tr_Q841V4_Q841V4_ECOLX      NA     2     1     3    NA     1    NA    NA\n",
      "5 M_tr_Q83TS1_Q83TS1_ECOLX       2     1     6    39    NA     5     3     1\n",
      "6 PDI_tr_I6ZU90_I6ZU90_ECOLX     2     4     6     4     3     6    NA    NA\n",
      "7 S_tr_H9ZMG7_H9ZMG7_ECOLX      NA    NA     1    NA    NA     1    NA    NA\n",
      "8 V_sp_P22522_CEAV_ECOLX        12    36    37    85    10     9    17     5\n"
     ]
    }
   ],
   "source": [
    "%%R -o microcin_hits_perPhylogroup_countMatrix\n",
    "microcin_hits_perPhylogroup_countMatrix <- microcin_hits_perPhylogroup %>%\n",
    "\tpivot_wider(values_from=n, names_from=phylogroup)\n",
    "\n",
    "microcin_hits_perPhylogroup_countMatrix"
   ]
  },
  {
   "cell_type": "markdown",
   "metadata": {},
   "source": [
    "So that's where the data comes from. I just took the known phylogenetic relationships of the verified micrcoins, as well as the known relationships between the phylogroups and hand drew dendrograms such that each axis is phylogenetically sorted. Then the boxes were colored by the number, and left blank f NA\n",
    "\n",
    "Now we can do a little statistical assesment of how the phylogroups aren't equally represented in this analysis"
   ]
  },
  {
   "cell_type": "code",
   "execution_count": 12,
   "metadata": {},
   "outputs": [
    {
     "name": "stdout",
     "output_type": "stream",
     "text": [
      "# A tibble: 8 × 3\n",
      "  phylogroup n_assemblies freq_assemblies\n",
      "  <chr>             <int>           <dbl>\n",
      "1 A                   292          0.239 \n",
      "2 B1                  278          0.227 \n",
      "3 B2                  304          0.248 \n",
      "4 C                    16          0.0131\n",
      "5 D                   174          0.142 \n",
      "6 E                    57          0.0466\n",
      "7 F                    71          0.0580\n",
      "8 G                    32          0.0261\n"
     ]
    }
   ],
   "source": [
    "%%R\n",
    "n_assembliesPhylogroup <- assemblySummary_ENAInformation_phylogroup %>%\n",
    "\tcount(phylogroup, name=\"n_assemblies\") %>%\n",
    "\tmutate(freq_assemblies = n_assemblies / sum(n_assemblies))\n",
    "n_assembliesPhylogroup"
   ]
  },
  {
   "cell_type": "code",
   "execution_count": 13,
   "metadata": {},
   "outputs": [
    {
     "name": "stdout",
     "output_type": "stream",
     "text": [
      "Joining, by = \"phylogroup\"\n",
      "# A tibble: 8 × 5\n",
      "  phylogroup n_microcins n_assemblies freq_assemblies expected_microcins\n",
      "  <chr>            <int>        <int>           <dbl>              <dbl>\n",
      "1 A                   46          292          0.239               87.1 \n",
      "2 B1                  61          278          0.227               82.9 \n",
      "3 B2                 159          304          0.248               90.7 \n",
      "4 C                   15           16          0.0131               4.77\n",
      "5 D                   33          174          0.142               51.9 \n",
      "6 E                    6           57          0.0466              17.0 \n",
      "7 F                   19           71          0.0580              21.2 \n",
      "8 G                   26           32          0.0261               9.54\n"
     ]
    }
   ],
   "source": [
    "%%R\n",
    "best_hits_phylogroup_expected <- best_hits_phylogroup %>%\n",
    "\tfilter(component == \"microcins.verified\") %>%\n",
    "\tgroup_by(phylogroup) %>%\n",
    "\tsummarise(n_microcins = n()) %>%\n",
    "\tfull_join(n_assembliesPhylogroup) %>%\n",
    "\tmutate(expected_microcins = sum(n_microcins) * freq_assemblies)\n",
    "best_hits_phylogroup_expected"
   ]
  },
  {
   "cell_type": "code",
   "execution_count": 14,
   "metadata": {},
   "outputs": [
    {
     "name": "stdout",
     "output_type": "stream",
     "text": [
      "\n",
      "\tChi-squared test for given probabilities\n",
      "\n",
      "data:  best_hits_phylogroup_expected$n_assemblies\n",
      "X-squared = 702.86, df = 7, p-value < 2.2e-16\n",
      "\n"
     ]
    }
   ],
   "source": [
    "%%R\n",
    "chisq.test(x = best_hits_phylogroup_expected$n_assemblies)"
   ]
  },
  {
   "cell_type": "code",
   "execution_count": 15,
   "metadata": {},
   "outputs": [
    {
     "name": "stdout",
     "output_type": "stream",
     "text": [
      "\n",
      "\tChi-squared test for given probabilities\n",
      "\n",
      "data:  best_hits_phylogroup_expected$n_microcins\n",
      "X-squared = 141.22, df = 7, p-value < 2.2e-16\n",
      "\n"
     ]
    }
   ],
   "source": [
    "%%R\n",
    "chisq.test(x = best_hits_phylogroup_expected$n_microcins, p=best_hits_phylogroup_expected$freq_assemblies)"
   ]
  },
  {
   "cell_type": "markdown",
   "metadata": {},
   "source": [
    "Now, a big question is in regards to the count matrix. Let's take a look at that"
   ]
  },
  {
   "cell_type": "code",
   "execution_count": 16,
   "metadata": {},
   "outputs": [
    {
     "name": "stdout",
     "output_type": "stream",
     "text": [
      "     C/B1  A E D  F  G B2\n",
      "H47     6  1 0 5  1  3 23\n",
      "E492    0  0 0 0  1  0  0\n",
      "M       6  1 1 5  2  3 39\n",
      "I47     6  2 0 6  1  3  5\n",
      "S       1  0 0 1  0  0  0\n",
      "PDI     9  4 0 6  2  0  4\n",
      "L       1  2 0 1  0  0  3\n",
      "V      47 36 5 9 12 17 85\n"
     ]
    }
   ],
   "source": [
    "%%R\n",
    "microcin_hits_perPhylogroup_countMatrix_zero <- microcin_hits_perPhylogroup_countMatrix %>%\n",
    "    replace(is.na(.), 0) %>%\n",
    "    mutate(`C/B1` = sum(as.integer(C),as.integer(B1))) %>%\n",
    "    ungroup() %>%\n",
    "    select(sseqid,`C/B1`,A,E,D,F,G,B2) %>% \n",
    "    separate(sseqid, c(\"microcin\")) %>%\n",
    "    pivot_longer(`C/B1`:B2, names_to = \"phylogroup\") %>% \n",
    "    pivot_wider(names_from = microcin, values_from = value) %>%\n",
    "    select(phylogroup, H47,E492,M,I47,S,PDI,L,V) %>% # OLD ORDER -> I47,M,L,V,H47,S,PDI,E492) %>%\n",
    "    pivot_longer(H47:V, names_to = \"microcin\") %>%\n",
    "    pivot_wider(names_from = phylogroup, values_from = value) %>%\n",
    "    replace(is.na(.), 0) %>%\n",
    "    remove_rownames %>%\n",
    "    column_to_rownames(var=\"microcin\")\n",
    "\n",
    "microcin_hits_perPhylogroup_countMatrix_zero"
   ]
  },
  {
   "cell_type": "code",
   "execution_count": 17,
   "metadata": {},
   "outputs": [
    {
     "name": "stdout",
     "output_type": "stream",
     "text": [
      "           C/B1          A           E           D          F          G\n",
      "H47  -0.7441413 -1.7659344 -0.80068464  0.78495827 -0.7229900  0.1331434\n",
      "E492 -0.4563104 -0.3550034 -0.12821215 -0.30068415  4.1548262 -0.2668949\n",
      "M    -1.7034477 -2.3071126  0.06509811 -0.06758451 -0.5614538 -0.5261874\n",
      "I47   0.5533566 -0.5278185 -0.61488388  2.71876903 -0.1802791  1.0637985\n",
      "S     0.9042976 -0.5020506 -0.18131937  1.92642803 -0.3226602 -0.3774464\n",
      "PDI   1.6631313  0.4784828 -0.64106076  2.48747798  0.6124166 -1.3344744\n",
      "L    -0.3789782  1.1901064 -0.33921747  0.46147946 -0.6036419 -0.7061375\n",
      "V     0.4625254  1.8244573  0.82233452 -2.30710359  0.3066969  0.5081063\n",
      "             B2\n",
      "H47   1.4583418\n",
      "E492 -0.6600125\n",
      "M     2.8436497\n",
      "I47  -1.5856837\n",
      "S    -0.9333986\n",
      "PDI  -2.0879639\n",
      "L    -0.0282409\n",
      "V    -0.7212787\n"
     ]
    }
   ],
   "source": [
    "%%R \n",
    "microcin_hits_perPhylogroup_countMatrix_chisq <- chisq.test(microcin_hits_perPhylogroup_countMatrix_zero)\n",
    "\n",
    "microcin_hits_perPhylogroup_countMatrix_chisq$residuals"
   ]
  },
  {
   "cell_type": "code",
   "execution_count": 18,
   "metadata": {},
   "outputs": [
    {
     "name": "stdout",
     "output_type": "stream",
     "text": [
      "png \n",
      "  2 \n"
     ]
    }
   ],
   "source": [
    "%%R \n",
    "svg(\"plots/06_microcins_per_phylogroup_chisq_resids.svg\")\n",
    "corrplot(microcin_hits_perPhylogroup_countMatrix_chisq$residuals, is.cor = FALSE, \n",
    "    method = \"color\")\n",
    "dev.off()"
   ]
  }
 ],
 "metadata": {
  "interpreter": {
   "hash": "184da163bdcbc68ba00985bd6e7412525ff7507797be2878afd169be169c48f1"
  },
  "kernelspec": {
   "display_name": "Python 3 (ipykernel)",
   "language": "python",
   "name": "python3"
  },
  "language_info": {
   "codemirror_mode": {
    "name": "ipython",
    "version": 3
   },
   "file_extension": ".py",
   "mimetype": "text/x-python",
   "name": "python",
   "nbconvert_exporter": "python",
   "pygments_lexer": "ipython3",
   "version": "3.9.13"
  }
 },
 "nbformat": 4,
 "nbformat_minor": 2
}
