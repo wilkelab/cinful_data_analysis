{
 "cells": [
  {
   "cell_type": "markdown",
   "metadata": {
    "pycharm": {
     "name": "#%% md\n"
    }
   },
   "source": [
    "# Libraries"
   ]
  },
  {
   "cell_type": "code",
   "execution_count": 1,
   "metadata": {
    "pycharm": {
     "name": "#%%\n"
    }
   },
   "outputs": [],
   "source": [
    "%load_ext rpy2.ipython"
   ]
  },
  {
   "cell_type": "code",
   "execution_count": 2,
   "metadata": {
    "pycharm": {
     "name": "#%%\n"
    }
   },
   "outputs": [
    {
     "name": "stdout",
     "output_type": "stream",
     "text": [
      "── Attaching packages ─────────────────────────────────────── tidyverse 1.3.2 ──\n",
      "✔ ggplot2 3.3.6      ✔ purrr   0.3.5 \n",
      "✔ tibble  3.1.8      ✔ dplyr   1.0.10\n",
      "✔ tidyr   1.2.1      ✔ stringr 1.4.1 \n",
      "✔ readr   2.1.3      ✔ forcats 0.5.2 \n",
      "── Conflicts ────────────────────────────────────────── tidyverse_conflicts() ──\n",
      "✖ dplyr::filter() masks stats::filter()\n",
      "✖ dplyr::lag()    masks stats::lag()\n"
     ]
    },
    {
     "name": "stderr",
     "output_type": "stream",
     "text": [
      "R[write to console]: Registered S3 method overwritten by 'ggtree':\n",
      "  method      from \n",
      "  identify.gg ggfun\n",
      "\n",
      "R[write to console]: ggtree v3.2.1  For help: https://yulab-smu.top/treedata-book/\n",
      "\n",
      "If you use ggtree in published research, please cite the most appropriate paper(s):\n",
      "\n",
      "1. Guangchuang Yu. Using ggtree to visualize data on tree-like structures. Current Protocols in Bioinformatics. 2020, 69:e96. doi:10.1002/cpbi.96\n",
      "2. Guangchuang Yu, Tommy Tsan-Yuk Lam, Huachen Zhu, Yi Guan. Two methods for mapping and visualizing associated data on phylogeny using ggtree. Molecular Biology and Evolution. 2018, 35(12):3041-3043. doi:10.1093/molbev/msy194\n",
      "3. Guangchuang Yu, David Smith, Huachen Zhu, Yi Guan, Tommy Tsan-Yuk Lam. ggtree: an R package for visualization and annotation of phylogenetic trees with their covariates and other associated data. Methods in Ecology and Evolution. 2017, 8(1):28-36. doi:10.1111/2041-210X.12628\n",
      "\n",
      "\n",
      "\n",
      "R[write to console]: \n",
      "Attaching package: ‘ggtree’\n",
      "\n",
      "\n",
      "R[write to console]: The following object is masked from ‘package:tidyr’:\n",
      "\n",
      "    expand\n",
      "\n",
      "\n",
      "R[write to console]: \n",
      "Attaching package: ‘ggstance’\n",
      "\n",
      "\n",
      "R[write to console]: The following objects are masked from ‘package:ggplot2’:\n",
      "\n",
      "    geom_errorbarh, GeomErrorbarh\n",
      "\n",
      "\n"
     ]
    }
   ],
   "source": [
    "%%R\n",
    "library(tidyverse)\n",
    "library(ggtree)\n",
    "library(ggstance)"
   ]
  },
  {
   "cell_type": "code",
   "execution_count": 3,
   "metadata": {
    "pycharm": {
     "name": "#%%\n"
    }
   },
   "outputs": [
    {
     "name": "stdout",
     "output_type": "stream",
     "text": [
      "New names:\n",
      "• `` -> `...1`\n",
      "Rows: 34611 Columns: 28\n",
      "── Column specification ────────────────────────────────────────────────────────\n",
      "Delimiter: \",\"\n",
      "chr (10): qseqid, sseqid, component, cinful_id, pephash, accession, ID2, con...\n",
      "dbl (14): ...1, pident, length, mismatch, gapopen, qstart, qend, sstart, sen...\n",
      "lgl  (4): hmmerHit, verified, allStandardAA, signalMatch\n",
      "\n",
      "ℹ Use `spec()` to retrieve the full column specification for this data.\n",
      "ℹ Specify the column types or set `show_col_types = FALSE` to quiet this message.\n",
      "# A tibble: 34,611 × 28\n",
      "    ...1 qseqid   sseqid pident length misma…¹ gapopen qstart  qend sstart  send\n",
      "   <dbl> <chr>    <chr>   <dbl>  <dbl>   <dbl>   <dbl>  <dbl> <dbl>  <dbl> <dbl>\n",
      " 1     1 v1_PLS_… H47_s…   56.2     16       7       0      1    16      1    16\n",
      " 2     2 v1_PLS_… H47_s…   56.2     16       7       0      1    16      1    16\n",
      " 3     3 v1_PLS_… H47_s…   56.2     16       7       0      1    16      1    16\n",
      " 4     4 v1_PLS_… H47_s…   56.2     16       7       0      1    16      1    16\n",
      " 5     5 v1_PLS_… H47_s…   56.2     16       7       0      1    16      1    16\n",
      " 6     6 v1_PLS_… H47_s…   56.2     16       7       0      1    16      1    16\n",
      " 7     7 v1_PLS_… H47_s…   56.2     16       7       0      1    16      1    16\n",
      " 8     8 v1_PLS_… H47_s…   56.2     16       7       0      1    16      1    16\n",
      " 9     9 v1_PLS_… H47_s…   56.2     16       7       0      1    16      1    16\n",
      "10    10 v1_PLS_… H47_s…   56.2     16       7       0      1    16      1    16\n",
      "# … with 34,601 more rows, 17 more variables: evalue <dbl>, bitscore <dbl>,\n",
      "#   component <chr>, hmmerHit <lgl>, verified <lgl>, cinful_id <chr>,\n",
      "#   pephash <chr>, accession <chr>, ID2 <chr>, contig <chr>, start <dbl>,\n",
      "#   stop <dbl>, strand <dbl>, allStandardAA <lgl>, seq <chr>,\n",
      "#   signalMatch <lgl>, gtdb_taxonomy <chr>, and abbreviated variable name\n",
      "#   ¹​mismatch\n",
      "# ℹ Use `print(n = ...)` to see more rows, and `colnames()` to see all variable names\n"
     ]
    }
   ],
   "source": [
    "%%R\n",
    "all_best_hits <- read_csv(\"data/Enterobacteriales_hits_with_species_data.csv\")\n",
    "\n",
    "all_best_hits"
   ]
  },
  {
   "cell_type": "code",
   "execution_count": 4,
   "metadata": {
    "pycharm": {
     "name": "#%%\n"
    }
   },
   "outputs": [
    {
     "name": "stdout",
     "output_type": "stream",
     "text": [
      "# A tibble: 7,963 × 2\n",
      "   accession           n\n",
      "   <chr>           <int>\n",
      " 1 GCA_000168075.1     9\n",
      " 2 GCA_000214745.2     3\n",
      " 3 GCA_000240805.2     2\n",
      " 4 GCA_000250435.2     5\n",
      " 5 GCA_000264705.1     2\n",
      " 6 GCA_000268105.1     2\n",
      " 7 GCA_000316155.1     2\n",
      " 8 GCA_000319535.1     1\n",
      " 9 GCA_000319555.1     1\n",
      "10 GCA_000319595.1     2\n",
      "# … with 7,953 more rows\n",
      "# ℹ Use `print(n = ...)` to see more rows\n"
     ]
    }
   ],
   "source": [
    "%%R\n",
    "all_best_hits %>%\n",
    "\tcount(accession)"
   ]
  },
  {
   "cell_type": "code",
   "execution_count": 5,
   "metadata": {
    "pycharm": {
     "name": "#%%\n"
    }
   },
   "outputs": [],
   "source": [
    "%%R \n",
    "Enterobacteriaciae_species_tree <- read.tree(\"data/Enterobacteriaciae_species.tree\")"
   ]
  },
  {
   "cell_type": "code",
   "execution_count": 6,
   "metadata": {
    "pycharm": {
     "name": "#%%\n"
    }
   },
   "outputs": [
    {
     "name": "stdout",
     "output_type": "stream",
     "text": [
      "  X       accession                   added\n",
      "1 1 GCA_000168075.1 _ASM16807v1_genomic.fna\n",
      "2 2 GCA_000214745.2 _ASM21474v2_genomic.fna\n",
      "3 3 GCA_000240805.2 _ASM24080v2_genomic.fna\n",
      "4 4 GCA_000250435.2 _ASM25043v2_genomic.fna\n",
      "5 5 GCA_000264705.1 _EntClo_1.0_genomic.fna\n",
      "6 6 GCA_000268105.1 _ASM26810v1_genomic.fna\n",
      "                                                       ncbi_organism_name\n",
      "1                                               Shigella dysenteriae 1012\n",
      "2                                              Cronobacter sakazakii E899\n",
      "3 Salmonella enterica subsp. enterica serovar Montevideo str. CT_02035278\n",
      "4                                                 Escherichia coli DEC14B\n",
      "5                                 Enterobacter cloacae subsp. cloacae GS1\n",
      "6                                             Shigella dysenteriae 225-75\n",
      "                                                                                                                                 ncbi_taxonomy\n",
      "1                         d__Bacteria; p__Proteobacteria; c__Gammaproteobacteria; o__Enterobacterales; f__Enterobacteriaceae; g__Shigella; s__\n",
      "2 d__Bacteria; p__Proteobacteria; c__Gammaproteobacteria; o__Enterobacterales; f__Enterobacteriaceae; g__Cronobacter; s__Cronobacter sakazakii\n",
      "3    d__Bacteria; p__Proteobacteria; c__Gammaproteobacteria; o__Enterobacterales; f__Enterobacteriaceae; g__Salmonella; s__Salmonella enterica\n",
      "4      d__Bacteria; p__Proteobacteria; c__Gammaproteobacteria; o__Enterobacterales; f__Enterobacteriaceae; g__Escherichia; s__Escherichia coli\n",
      "5 d__Bacteria; p__Proteobacteria; c__Gammaproteobacteria; o__Enterobacterales; f__Enterobacteriaceae; g__Enterobacter; s__Enterobacter cloacae\n",
      "6     d__Bacteria; p__Proteobacteria; c__Gammaproteobacteria; o__Enterobacterales; f__Enterobacteriaceae; g__Shigella; s__Shigella dysenteriae\n",
      "                                                                                                                                      gtdb_taxonomy\n",
      "1           d__Bacteria; p__Proteobacteria; c__Gammaproteobacteria; o__Enterobacterales; f__Enterobacteriaceae; g__Escherichia; s__Escherichia coli\n",
      "2      d__Bacteria; p__Proteobacteria; c__Gammaproteobacteria; o__Enterobacterales; f__Enterobacteriaceae; g__Cronobacter; s__Cronobacter sakazakii\n",
      "3         d__Bacteria; p__Proteobacteria; c__Gammaproteobacteria; o__Enterobacterales; f__Enterobacteriaceae; g__Salmonella; s__Salmonella enterica\n",
      "4           d__Bacteria; p__Proteobacteria; c__Gammaproteobacteria; o__Enterobacterales; f__Enterobacteriaceae; g__Escherichia; s__Escherichia coli\n",
      "5 d__Bacteria; p__Proteobacteria; c__Gammaproteobacteria; o__Enterobacterales; f__Enterobacteriaceae; g__Enterobacter; s__Enterobacter hormaechei_A\n",
      "6           d__Bacteria; p__Proteobacteria; c__Gammaproteobacteria; o__Enterobacterales; f__Enterobacteriaceae; g__Escherichia; s__Escherichia coli\n",
      "  gtdb_species_representative ncbi_type_material\n",
      "1                       False              False\n",
      "2                       False              False\n",
      "3                       False              False\n",
      "4                       False              False\n",
      "5                       False              False\n",
      "6                       False              False\n"
     ]
    }
   ],
   "source": [
    "%%R\n",
    "samples <- read.csv(\"data/Enterobacteriales_accessions.csv\", header = TRUE)\n",
    "\n",
    "head(samples)"
   ]
  },
  {
   "cell_type": "code",
   "execution_count": 7,
   "metadata": {
    "pycharm": {
     "name": "#%%\n"
    }
   },
   "outputs": [
    {
     "name": "stdout",
     "output_type": "stream",
     "text": [
      "           f2                  f3    n\n",
      "1 Bacteria; p Actinobacteriota; c    6\n",
      "2 Bacteria; p Campylobacterota; c   42\n",
      "3 Bacteria; p     Firmicutes_A; c    4\n",
      "4 Bacteria; p       Firmicutes; c    2\n",
      "5 Bacteria; p   Proteobacteria; c 7988\n",
      "6 Bacteria; p    Spirochaetota; c    1\n",
      "7        <NA>                <NA>    1\n"
     ]
    }
   ],
   "source": [
    "%%R\n",
    "samples %>%\n",
    "separate(gtdb_taxonomy, c('f1','f2','f3','f4','f5','f6','f7','f8'), sep = \"__\") %>%\n",
    "\tcount(f2,f3)"
   ]
  },
  {
   "cell_type": "code",
   "execution_count": 8,
   "metadata": {
    "pycharm": {
     "name": "#%%\n"
    },
    "scrolled": true
   },
   "outputs": [
    {
     "name": "stdout",
     "output_type": "stream",
     "text": [
      "                                   f8   n\n",
      "1                Actinomyces marmotae   5\n",
      "2           Anaerotruncus colihominis   1\n",
      "3             Atlantibacter hermannii  29\n",
      "4              Brachyspira pilosicoli   1\n",
      "5                  Campylobacter coli  40\n",
      "6            Citrobacter amalonaticus  64\n",
      "7                 Citrobacter braakii 126\n",
      "8                  Citrobacter koseri 109\n",
      "9               Citrobacter werkmanii  65\n",
      "10                Citrobacter youngae  40\n",
      "11             Cronobacter condimenti   3\n",
      "12            Cronobacter dublinensis  42\n",
      "13            Cronobacter malonaticus  62\n",
      "14             Cronobacter muytjensii   8\n",
      "15              Cronobacter sakazakii 437\n",
      "16            Cronobacter universalis   4\n",
      "17              Enterobacter asburiae 107\n",
      "18          Enterobacter cancerogenus  16\n",
      "19               Enterobacter cloacae 244\n",
      "20            Enterobacter hormaechei 984\n",
      "21                 Enterobacter kobei 141\n",
      "22              Enterobacter ludwigii  86\n",
      "23                  Enterobacter mori  23\n",
      "24               Escherichia albertii 107\n",
      "25                   Escherichia coli 939\n",
      "26             Escherichia fergusonii  77\n",
      "27               Escherichia marmotae  82\n",
      "28              Helicobacter marmotae   2\n",
      "29               Klebsiella aerogenes 340\n",
      "30               Klebsiella electrica   2\n",
      "31           Klebsiella michiganensis 274\n",
      "32         Klebsiella ornithinolytica  92\n",
      "33                 Klebsiella oxytoca 173\n",
      "34              Klebsiella planticola  44\n",
      "35              Klebsiella pneumoniae 982\n",
      "36         Klebsiella quasipneumoniae 626\n",
      "37               Klebsiella terrigena   2\n",
      "38               Klebsiella variicola 521\n",
      "39                  Kosakonia cowanii  18\n",
      "40                   Kosakonia oryzae   3\n",
      "41            Kosakonia radicincitans  13\n",
      "42                 Kosakonia sacchari   7\n",
      "43           Leclercia adecarboxylata  96\n",
      "44                Lelliottia amnigena  16\n",
      "45         Lelliottia nimipressuralis   9\n",
      "46             Massilicoli timonensis   1\n",
      "47 Paenarthrobacter nitroguajacolicus   1\n",
      "48            Pluralibacter gergoviae  22\n",
      "49                 Salmonella bongori  32\n",
      "50                Salmonella enterica 915\n",
      "51             Streptococcus marmotae   1\n",
      "52        Terrisporobacter glycolicus   3\n",
      "53            Yersinia enterocolitica   6\n",
      "54                               <NA>   1\n"
     ]
    }
   ],
   "source": [
    "%%R \n",
    "testing1 <- samples %>%\n",
    "separate(gtdb_taxonomy, c('f1','f2','f3','f4','f5','f6','f7','f8'), sep = \"__\")\n",
    "\n",
    "testing1$f8 <- gsub('_.','',testing1$f8)\n",
    "\n",
    "\n",
    "testing1 %>% \n",
    "    count(f8)"
   ]
  },
  {
   "cell_type": "code",
   "execution_count": 9,
   "metadata": {
    "pycharm": {
     "name": "#%%\n"
    }
   },
   "outputs": [],
   "source": [
    "%%R -o speciesAssemblies\n",
    "\n",
    "speciesAssemblies <- samples %>%\n",
    "separate(gtdb_taxonomy, c('f1','f2','f3','f4','f5','f6','f7','f8'), sep = \"__\") %>%\n",
    "    mutate(f7 = gsub('_.','',f7)) %>%\n",
    "    mutate(f7 = gsub('; s','',f7)) %>%\n",
    "    mutate(f8 = gsub('_.','',f8)) %>%\n",
    "#\tfilter(f4 == \"Enterobacteriaceae_gtdb\") %>%\n",
    "#\tfilter(f5 != \"other_families\") %>%\n",
    "\tcount(f7,f8) %>%\n",
    "\trename(clade = f7, species = f8, assemblies = n)"
   ]
  },
  {
   "cell_type": "code",
   "execution_count": 10,
   "metadata": {
    "pycharm": {
     "name": "#%%\n"
    }
   },
   "outputs": [
    {
     "data": {
      "text/html": [
       "<div>\n",
       "<style scoped>\n",
       "    .dataframe tbody tr th:only-of-type {\n",
       "        vertical-align: middle;\n",
       "    }\n",
       "\n",
       "    .dataframe tbody tr th {\n",
       "        vertical-align: top;\n",
       "    }\n",
       "\n",
       "    .dataframe thead th {\n",
       "        text-align: right;\n",
       "    }\n",
       "</style>\n",
       "<table border=\"1\" class=\"dataframe\">\n",
       "  <thead>\n",
       "    <tr style=\"text-align: right;\">\n",
       "      <th></th>\n",
       "      <th>clade</th>\n",
       "      <th>species</th>\n",
       "      <th>assemblies</th>\n",
       "    </tr>\n",
       "  </thead>\n",
       "  <tbody>\n",
       "    <tr>\n",
       "      <th>1</th>\n",
       "      <td>Actinomyces</td>\n",
       "      <td>Actinomyces marmotae</td>\n",
       "      <td>5</td>\n",
       "    </tr>\n",
       "    <tr>\n",
       "      <th>2</th>\n",
       "      <td>Anaerotruncus</td>\n",
       "      <td>Anaerotruncus colihominis</td>\n",
       "      <td>1</td>\n",
       "    </tr>\n",
       "    <tr>\n",
       "      <th>3</th>\n",
       "      <td>Atlantibacter</td>\n",
       "      <td>Atlantibacter hermannii</td>\n",
       "      <td>29</td>\n",
       "    </tr>\n",
       "    <tr>\n",
       "      <th>4</th>\n",
       "      <td>Brachyspira</td>\n",
       "      <td>Brachyspira pilosicoli</td>\n",
       "      <td>1</td>\n",
       "    </tr>\n",
       "    <tr>\n",
       "      <th>5</th>\n",
       "      <td>Campylobacter</td>\n",
       "      <td>Campylobacter coli</td>\n",
       "      <td>40</td>\n",
       "    </tr>\n",
       "    <tr>\n",
       "      <th>6</th>\n",
       "      <td>Citrobacter</td>\n",
       "      <td>Citrobacter amalonaticus</td>\n",
       "      <td>64</td>\n",
       "    </tr>\n",
       "    <tr>\n",
       "      <th>7</th>\n",
       "      <td>Citrobacter</td>\n",
       "      <td>Citrobacter braakii</td>\n",
       "      <td>126</td>\n",
       "    </tr>\n",
       "    <tr>\n",
       "      <th>8</th>\n",
       "      <td>Citrobacter</td>\n",
       "      <td>Citrobacter koseri</td>\n",
       "      <td>109</td>\n",
       "    </tr>\n",
       "    <tr>\n",
       "      <th>9</th>\n",
       "      <td>Citrobacter</td>\n",
       "      <td>Citrobacter werkmanii</td>\n",
       "      <td>65</td>\n",
       "    </tr>\n",
       "    <tr>\n",
       "      <th>10</th>\n",
       "      <td>Citrobacter</td>\n",
       "      <td>Citrobacter youngae</td>\n",
       "      <td>40</td>\n",
       "    </tr>\n",
       "    <tr>\n",
       "      <th>11</th>\n",
       "      <td>Cronobacter</td>\n",
       "      <td>Cronobacter condimenti</td>\n",
       "      <td>3</td>\n",
       "    </tr>\n",
       "    <tr>\n",
       "      <th>12</th>\n",
       "      <td>Cronobacter</td>\n",
       "      <td>Cronobacter dublinensis</td>\n",
       "      <td>42</td>\n",
       "    </tr>\n",
       "    <tr>\n",
       "      <th>13</th>\n",
       "      <td>Cronobacter</td>\n",
       "      <td>Cronobacter malonaticus</td>\n",
       "      <td>62</td>\n",
       "    </tr>\n",
       "    <tr>\n",
       "      <th>14</th>\n",
       "      <td>Cronobacter</td>\n",
       "      <td>Cronobacter muytjensii</td>\n",
       "      <td>8</td>\n",
       "    </tr>\n",
       "    <tr>\n",
       "      <th>15</th>\n",
       "      <td>Cronobacter</td>\n",
       "      <td>Cronobacter sakazakii</td>\n",
       "      <td>437</td>\n",
       "    </tr>\n",
       "    <tr>\n",
       "      <th>16</th>\n",
       "      <td>Cronobacter</td>\n",
       "      <td>Cronobacter universalis</td>\n",
       "      <td>4</td>\n",
       "    </tr>\n",
       "    <tr>\n",
       "      <th>17</th>\n",
       "      <td>Enterobacter</td>\n",
       "      <td>Enterobacter asburiae</td>\n",
       "      <td>107</td>\n",
       "    </tr>\n",
       "    <tr>\n",
       "      <th>18</th>\n",
       "      <td>Enterobacter</td>\n",
       "      <td>Enterobacter cancerogenus</td>\n",
       "      <td>16</td>\n",
       "    </tr>\n",
       "    <tr>\n",
       "      <th>19</th>\n",
       "      <td>Enterobacter</td>\n",
       "      <td>Enterobacter cloacae</td>\n",
       "      <td>244</td>\n",
       "    </tr>\n",
       "    <tr>\n",
       "      <th>20</th>\n",
       "      <td>Enterobacter</td>\n",
       "      <td>Enterobacter hormaechei</td>\n",
       "      <td>984</td>\n",
       "    </tr>\n",
       "    <tr>\n",
       "      <th>21</th>\n",
       "      <td>Enterobacter</td>\n",
       "      <td>Enterobacter kobei</td>\n",
       "      <td>141</td>\n",
       "    </tr>\n",
       "    <tr>\n",
       "      <th>22</th>\n",
       "      <td>Enterobacter</td>\n",
       "      <td>Enterobacter ludwigii</td>\n",
       "      <td>86</td>\n",
       "    </tr>\n",
       "    <tr>\n",
       "      <th>23</th>\n",
       "      <td>Enterobacter</td>\n",
       "      <td>Enterobacter mori</td>\n",
       "      <td>23</td>\n",
       "    </tr>\n",
       "    <tr>\n",
       "      <th>24</th>\n",
       "      <td>Escherichia</td>\n",
       "      <td>Escherichia albertii</td>\n",
       "      <td>107</td>\n",
       "    </tr>\n",
       "    <tr>\n",
       "      <th>25</th>\n",
       "      <td>Escherichia</td>\n",
       "      <td>Escherichia coli</td>\n",
       "      <td>939</td>\n",
       "    </tr>\n",
       "    <tr>\n",
       "      <th>26</th>\n",
       "      <td>Escherichia</td>\n",
       "      <td>Escherichia fergusonii</td>\n",
       "      <td>77</td>\n",
       "    </tr>\n",
       "    <tr>\n",
       "      <th>27</th>\n",
       "      <td>Escherichia</td>\n",
       "      <td>Escherichia marmotae</td>\n",
       "      <td>82</td>\n",
       "    </tr>\n",
       "    <tr>\n",
       "      <th>28</th>\n",
       "      <td>Helicobacter</td>\n",
       "      <td>Helicobacter marmotae</td>\n",
       "      <td>2</td>\n",
       "    </tr>\n",
       "    <tr>\n",
       "      <th>29</th>\n",
       "      <td>Klebsiella</td>\n",
       "      <td>Klebsiella aerogenes</td>\n",
       "      <td>340</td>\n",
       "    </tr>\n",
       "    <tr>\n",
       "      <th>30</th>\n",
       "      <td>Klebsiella</td>\n",
       "      <td>Klebsiella electrica</td>\n",
       "      <td>2</td>\n",
       "    </tr>\n",
       "    <tr>\n",
       "      <th>31</th>\n",
       "      <td>Klebsiella</td>\n",
       "      <td>Klebsiella michiganensis</td>\n",
       "      <td>274</td>\n",
       "    </tr>\n",
       "    <tr>\n",
       "      <th>32</th>\n",
       "      <td>Klebsiella</td>\n",
       "      <td>Klebsiella ornithinolytica</td>\n",
       "      <td>92</td>\n",
       "    </tr>\n",
       "    <tr>\n",
       "      <th>33</th>\n",
       "      <td>Klebsiella</td>\n",
       "      <td>Klebsiella oxytoca</td>\n",
       "      <td>173</td>\n",
       "    </tr>\n",
       "    <tr>\n",
       "      <th>34</th>\n",
       "      <td>Klebsiella</td>\n",
       "      <td>Klebsiella planticola</td>\n",
       "      <td>44</td>\n",
       "    </tr>\n",
       "    <tr>\n",
       "      <th>35</th>\n",
       "      <td>Klebsiella</td>\n",
       "      <td>Klebsiella pneumoniae</td>\n",
       "      <td>982</td>\n",
       "    </tr>\n",
       "    <tr>\n",
       "      <th>36</th>\n",
       "      <td>Klebsiella</td>\n",
       "      <td>Klebsiella quasipneumoniae</td>\n",
       "      <td>626</td>\n",
       "    </tr>\n",
       "    <tr>\n",
       "      <th>37</th>\n",
       "      <td>Klebsiella</td>\n",
       "      <td>Klebsiella terrigena</td>\n",
       "      <td>2</td>\n",
       "    </tr>\n",
       "    <tr>\n",
       "      <th>38</th>\n",
       "      <td>Klebsiella</td>\n",
       "      <td>Klebsiella variicola</td>\n",
       "      <td>521</td>\n",
       "    </tr>\n",
       "    <tr>\n",
       "      <th>39</th>\n",
       "      <td>Kosakonia</td>\n",
       "      <td>Kosakonia cowanii</td>\n",
       "      <td>18</td>\n",
       "    </tr>\n",
       "    <tr>\n",
       "      <th>40</th>\n",
       "      <td>Kosakonia</td>\n",
       "      <td>Kosakonia oryzae</td>\n",
       "      <td>3</td>\n",
       "    </tr>\n",
       "    <tr>\n",
       "      <th>41</th>\n",
       "      <td>Kosakonia</td>\n",
       "      <td>Kosakonia radicincitans</td>\n",
       "      <td>13</td>\n",
       "    </tr>\n",
       "    <tr>\n",
       "      <th>42</th>\n",
       "      <td>Kosakonia</td>\n",
       "      <td>Kosakonia sacchari</td>\n",
       "      <td>7</td>\n",
       "    </tr>\n",
       "    <tr>\n",
       "      <th>43</th>\n",
       "      <td>Leclercia</td>\n",
       "      <td>Leclercia adecarboxylata</td>\n",
       "      <td>96</td>\n",
       "    </tr>\n",
       "    <tr>\n",
       "      <th>44</th>\n",
       "      <td>Lelliottia</td>\n",
       "      <td>Lelliottia amnigena</td>\n",
       "      <td>16</td>\n",
       "    </tr>\n",
       "    <tr>\n",
       "      <th>45</th>\n",
       "      <td>Lelliottia</td>\n",
       "      <td>Lelliottia nimipressuralis</td>\n",
       "      <td>9</td>\n",
       "    </tr>\n",
       "    <tr>\n",
       "      <th>46</th>\n",
       "      <td>Massilicoli</td>\n",
       "      <td>Massilicoli timonensis</td>\n",
       "      <td>1</td>\n",
       "    </tr>\n",
       "    <tr>\n",
       "      <th>47</th>\n",
       "      <td>Paenarthrobacter</td>\n",
       "      <td>Paenarthrobacter nitroguajacolicus</td>\n",
       "      <td>1</td>\n",
       "    </tr>\n",
       "    <tr>\n",
       "      <th>48</th>\n",
       "      <td>Pluralibacter</td>\n",
       "      <td>Pluralibacter gergoviae</td>\n",
       "      <td>22</td>\n",
       "    </tr>\n",
       "    <tr>\n",
       "      <th>49</th>\n",
       "      <td>Salmonella</td>\n",
       "      <td>Salmonella bongori</td>\n",
       "      <td>32</td>\n",
       "    </tr>\n",
       "    <tr>\n",
       "      <th>50</th>\n",
       "      <td>Salmonella</td>\n",
       "      <td>Salmonella enterica</td>\n",
       "      <td>915</td>\n",
       "    </tr>\n",
       "    <tr>\n",
       "      <th>51</th>\n",
       "      <td>Streptococcus</td>\n",
       "      <td>Streptococcus marmotae</td>\n",
       "      <td>1</td>\n",
       "    </tr>\n",
       "    <tr>\n",
       "      <th>52</th>\n",
       "      <td>Terrisporobacter</td>\n",
       "      <td>Terrisporobacter glycolicus</td>\n",
       "      <td>3</td>\n",
       "    </tr>\n",
       "    <tr>\n",
       "      <th>53</th>\n",
       "      <td>Yersinia</td>\n",
       "      <td>Yersinia enterocolitica</td>\n",
       "      <td>6</td>\n",
       "    </tr>\n",
       "    <tr>\n",
       "      <th>54</th>\n",
       "      <td>NA_character_</td>\n",
       "      <td>NA_character_</td>\n",
       "      <td>1</td>\n",
       "    </tr>\n",
       "  </tbody>\n",
       "</table>\n",
       "</div>"
      ],
      "text/plain": [
       "               clade                             species  assemblies\n",
       "1        Actinomyces                Actinomyces marmotae           5\n",
       "2      Anaerotruncus           Anaerotruncus colihominis           1\n",
       "3      Atlantibacter             Atlantibacter hermannii          29\n",
       "4        Brachyspira              Brachyspira pilosicoli           1\n",
       "5      Campylobacter                  Campylobacter coli          40\n",
       "6        Citrobacter            Citrobacter amalonaticus          64\n",
       "7        Citrobacter                 Citrobacter braakii         126\n",
       "8        Citrobacter                  Citrobacter koseri         109\n",
       "9        Citrobacter               Citrobacter werkmanii          65\n",
       "10       Citrobacter                 Citrobacter youngae          40\n",
       "11       Cronobacter              Cronobacter condimenti           3\n",
       "12       Cronobacter             Cronobacter dublinensis          42\n",
       "13       Cronobacter             Cronobacter malonaticus          62\n",
       "14       Cronobacter              Cronobacter muytjensii           8\n",
       "15       Cronobacter               Cronobacter sakazakii         437\n",
       "16       Cronobacter             Cronobacter universalis           4\n",
       "17      Enterobacter               Enterobacter asburiae         107\n",
       "18      Enterobacter           Enterobacter cancerogenus          16\n",
       "19      Enterobacter                Enterobacter cloacae         244\n",
       "20      Enterobacter             Enterobacter hormaechei         984\n",
       "21      Enterobacter                  Enterobacter kobei         141\n",
       "22      Enterobacter               Enterobacter ludwigii          86\n",
       "23      Enterobacter                   Enterobacter mori          23\n",
       "24       Escherichia                Escherichia albertii         107\n",
       "25       Escherichia                    Escherichia coli         939\n",
       "26       Escherichia              Escherichia fergusonii          77\n",
       "27       Escherichia                Escherichia marmotae          82\n",
       "28      Helicobacter               Helicobacter marmotae           2\n",
       "29        Klebsiella                Klebsiella aerogenes         340\n",
       "30        Klebsiella                Klebsiella electrica           2\n",
       "31        Klebsiella            Klebsiella michiganensis         274\n",
       "32        Klebsiella          Klebsiella ornithinolytica          92\n",
       "33        Klebsiella                  Klebsiella oxytoca         173\n",
       "34        Klebsiella               Klebsiella planticola          44\n",
       "35        Klebsiella               Klebsiella pneumoniae         982\n",
       "36        Klebsiella          Klebsiella quasipneumoniae         626\n",
       "37        Klebsiella                Klebsiella terrigena           2\n",
       "38        Klebsiella                Klebsiella variicola         521\n",
       "39         Kosakonia                   Kosakonia cowanii          18\n",
       "40         Kosakonia                    Kosakonia oryzae           3\n",
       "41         Kosakonia             Kosakonia radicincitans          13\n",
       "42         Kosakonia                  Kosakonia sacchari           7\n",
       "43         Leclercia            Leclercia adecarboxylata          96\n",
       "44        Lelliottia                 Lelliottia amnigena          16\n",
       "45        Lelliottia          Lelliottia nimipressuralis           9\n",
       "46       Massilicoli              Massilicoli timonensis           1\n",
       "47  Paenarthrobacter  Paenarthrobacter nitroguajacolicus           1\n",
       "48     Pluralibacter             Pluralibacter gergoviae          22\n",
       "49        Salmonella                  Salmonella bongori          32\n",
       "50        Salmonella                 Salmonella enterica         915\n",
       "51     Streptococcus              Streptococcus marmotae           1\n",
       "52  Terrisporobacter         Terrisporobacter glycolicus           3\n",
       "53          Yersinia             Yersinia enterocolitica           6\n",
       "54     NA_character_                       NA_character_           1"
      ]
     },
     "execution_count": 10,
     "metadata": {},
     "output_type": "execute_result"
    }
   ],
   "source": [
    "speciesAssemblies"
   ]
  },
  {
   "cell_type": "code",
   "execution_count": 11,
   "metadata": {
    "pycharm": {
     "name": "#%%\n"
    }
   },
   "outputs": [
    {
     "name": "stdout",
     "output_type": "stream",
     "text": [
      "# A tibble: 34,611 × 8\n",
      "   f1    f2          f3                f4                f5    f6    f7    f8   \n",
      "   <chr> <chr>       <chr>             <chr>             <chr> <chr> <chr> <chr>\n",
      " 1 d     Bacteria; p Proteobacteria; c Gammaproteobacte… Ente… Ente… Kleb… Kleb…\n",
      " 2 d     Bacteria; p Proteobacteria; c Gammaproteobacte… Ente… Ente… Kleb… Kleb…\n",
      " 3 d     Bacteria; p Proteobacteria; c Gammaproteobacte… Ente… Ente… Kleb… Kleb…\n",
      " 4 d     Bacteria; p Proteobacteria; c Gammaproteobacte… Ente… Ente… Kleb… Kleb…\n",
      " 5 d     Bacteria; p Proteobacteria; c Gammaproteobacte… Ente… Ente… Kleb… Kleb…\n",
      " 6 d     Bacteria; p Proteobacteria; c Gammaproteobacte… Ente… Ente… Kleb… Kleb…\n",
      " 7 d     Bacteria; p Proteobacteria; c Gammaproteobacte… Ente… Ente… Kleb… Kleb…\n",
      " 8 d     Bacteria; p Proteobacteria; c Gammaproteobacte… Ente… Ente… Kleb… Kleb…\n",
      " 9 d     Bacteria; p Proteobacteria; c Gammaproteobacte… Ente… Ente… Kleb… Kleb…\n",
      "10 d     Bacteria; p Proteobacteria; c Gammaproteobacte… Ente… Ente… Kleb… Kleb…\n",
      "# … with 34,601 more rows\n",
      "# ℹ Use `print(n = ...)` to see more rows\n"
     ]
    }
   ],
   "source": [
    "%%R\n",
    "all_best_hits %>%\n",
    "\tselect(gtdb_taxonomy) %>%\n",
    "    separate(gtdb_taxonomy, c('f1','f2','f3','f4','f5','f6','f7','f8'), sep = \"__\") %>%\n",
    "    mutate(f7 = gsub('_.','',f7)) %>%\n",
    "    mutate(f7 = gsub('; s','',f7)) %>%\n",
    "    mutate(f8 = gsub('_.','',f8))"
   ]
  },
  {
   "cell_type": "code",
   "execution_count": 12,
   "metadata": {
    "pycharm": {
     "name": "#%%\n"
    }
   },
   "outputs": [
    {
     "name": "stdout",
     "output_type": "stream",
     "text": [
      "# A tibble: 34,611 × 35\n",
      "    ...1 qseqid   sseqid pident length misma…¹ gapopen qstart  qend sstart  send\n",
      "   <dbl> <chr>    <chr>   <dbl>  <dbl>   <dbl>   <dbl>  <dbl> <dbl>  <dbl> <dbl>\n",
      " 1     1 v1_PLS_… H47_s…   56.2     16       7       0      1    16      1    16\n",
      " 2     2 v1_PLS_… H47_s…   56.2     16       7       0      1    16      1    16\n",
      " 3     3 v1_PLS_… H47_s…   56.2     16       7       0      1    16      1    16\n",
      " 4     4 v1_PLS_… H47_s…   56.2     16       7       0      1    16      1    16\n",
      " 5     5 v1_PLS_… H47_s…   56.2     16       7       0      1    16      1    16\n",
      " 6     6 v1_PLS_… H47_s…   56.2     16       7       0      1    16      1    16\n",
      " 7     7 v1_PLS_… H47_s…   56.2     16       7       0      1    16      1    16\n",
      " 8     8 v1_PLS_… H47_s…   56.2     16       7       0      1    16      1    16\n",
      " 9     9 v1_PLS_… H47_s…   56.2     16       7       0      1    16      1    16\n",
      "10    10 v1_PLS_… H47_s…   56.2     16       7       0      1    16      1    16\n",
      "# … with 34,601 more rows, 24 more variables: evalue <dbl>, bitscore <dbl>,\n",
      "#   component <chr>, hmmerHit <lgl>, verified <lgl>, cinful_id <chr>,\n",
      "#   pephash <chr>, accession <chr>, ID2 <chr>, contig <chr>, start <dbl>,\n",
      "#   stop <dbl>, strand <dbl>, allStandardAA <lgl>, seq <chr>,\n",
      "#   signalMatch <lgl>, f1 <chr>, f2 <chr>, f3 <chr>, f4 <chr>, f5 <chr>,\n",
      "#   f6 <chr>, clade <chr>, species <chr>, and abbreviated variable name\n",
      "#   ¹​mismatch\n",
      "# ℹ Use `print(n = ...)` to see more rows, and `colnames()` to see all variable names\n"
     ]
    }
   ],
   "source": [
    "%%R\n",
    "Enterobacteriaceae_best_hits <- all_best_hits %>%\n",
    "    separate(gtdb_taxonomy, c('f1','f2','f3','f4','f5','f6','f7','f8'), sep = \"__\") %>%\n",
    "    mutate(f7 = gsub('_.','',f7)) %>%\n",
    "    mutate(f7 = gsub('; s','',f7)) %>%\n",
    "    mutate(f8 = gsub('_.','',f8)) %>%\n",
    "    rename(clade = f7, species = f8)\n",
    "Enterobacteriaceae_best_hits"
   ]
  },
  {
   "cell_type": "code",
   "execution_count": 13,
   "metadata": {},
   "outputs": [
    {
     "name": "stdout",
     "output_type": "stream",
     "text": [
      "# A tibble: 46 × 2\n",
      "   species                   n_microcins\n",
      "   <chr>                           <int>\n",
      " 1 Actinomyces marmotae                5\n",
      " 2 Anaerotruncus colihominis           1\n",
      " 3 Atlantibacter hermannii             2\n",
      " 4 Brachyspira pilosicoli              1\n",
      " 5 Campylobacter coli                  1\n",
      " 6 Citrobacter amalonaticus            9\n",
      " 7 Citrobacter braakii                12\n",
      " 8 Citrobacter koseri                  3\n",
      " 9 Citrobacter werkmanii               4\n",
      "10 Citrobacter youngae                 4\n",
      "# … with 36 more rows\n",
      "# ℹ Use `print(n = ...)` to see more rows\n"
     ]
    }
   ],
   "source": [
    "%%R\n",
    "Enterobacteriaceae_best_hits %>%\n",
    "    filter(component == \"microcins.verified\") %>%\n",
    "    count(species, name = \"n_microcins\", )\n"
   ]
  },
  {
   "cell_type": "code",
   "execution_count": 14,
   "metadata": {
    "pycharm": {
     "name": "#%%\n"
    }
   },
   "outputs": [
    {
     "name": "stdout",
     "output_type": "stream",
     "text": [
      "Joining, by = \"species\"\n",
      "# A tibble: 54 × 5\n",
      "   species                   n_microcins clade         assemblies percent_micr…¹\n",
      "   <chr>                           <int> <chr>              <int> <chr>         \n",
      " 1 Actinomyces marmotae                5 Actinomyces            5 1             \n",
      " 2 Anaerotruncus colihominis           1 Anaerotruncus          1 1             \n",
      " 3 Atlantibacter hermannii             2 Atlantibacter         29 0.06896551724…\n",
      " 4 Brachyspira pilosicoli              1 Brachyspira            1 1             \n",
      " 5 Campylobacter coli                  1 Campylobacter         40 0.025         \n",
      " 6 Citrobacter amalonaticus            9 Citrobacter           64 0.140625      \n",
      " 7 Citrobacter braakii                11 Citrobacter          126 0.08730158730…\n",
      " 8 Citrobacter koseri                  3 Citrobacter          109 0.02752293577…\n",
      " 9 Citrobacter werkmanii               4 Citrobacter           65 0.06153846153…\n",
      "10 Citrobacter youngae                 4 Citrobacter           40 0.1           \n",
      "# … with 44 more rows, and abbreviated variable name ¹​percent_microcin\n",
      "# ℹ Use `print(n = ...)` to see more rows\n"
     ]
    }
   ],
   "source": [
    "%%R\n",
    "species_microcins <- Enterobacteriaceae_best_hits %>%\n",
    "\tfilter(component == \"microcins.verified\") %>%\n",
    "\tcount(species, accession) %>% \n",
    "\tcount(species, name = \"n_microcins\") %>%\n",
    "\tfull_join(speciesAssemblies) %>%\n",
    "\tmutate(percent_microcin = n_microcins / assemblies) %>%\n",
    "    mutate(percent_microcin = gsub(\"NA\",\"0\",percent_microcin))\n",
    "\n",
    "species_microcins"
   ]
  },
  {
   "cell_type": "code",
   "execution_count": 15,
   "metadata": {
    "pycharm": {
     "name": "#%%\n"
    }
   },
   "outputs": [
    {
     "data": {
      "image/png": "[encoded data removed]"
     },
     "metadata": {},
     "output_type": "display_data"
    }
   ],
   "source": [
    "%%R\n",
    "Enterobacteriaciae_species_tree$tip.label<-gsub(\"_\",\" \",Enterobacteriaciae_species_tree$tip.label)\n",
    "species_microcins$species <- gsub(\"_\",\" \",species_microcins$species)\n",
    "plot(Enterobacteriaciae_species_tree)"
   ]
  },
  {
   "cell_type": "code",
   "execution_count": 16,
   "metadata": {
    "pycharm": {
     "name": "#%%\n"
    }
   },
   "outputs": [
    {
     "data": {
      "image/png": "[encoded data removed]"
     },
     "metadata": {},
     "output_type": "display_data"
    }
   ],
   "source": [
    "%%R -w 600\n",
    "species_tree_plot <- ggtree(Enterobacteriaciae_species_tree) +\n",
    "\tgeom_tiplab(as_ylab=FALSE, fontface=3)\n",
    "#\t  xlim(0, 0)\n",
    "\n",
    "species_tree_plot"
   ]
  },
  {
   "cell_type": "code",
   "execution_count": 17,
   "metadata": {
    "pycharm": {
     "name": "#%%\n"
    }
   },
   "outputs": [],
   "source": [
    "%%R\n",
    "species_microcins$clade <- factor(species_microcins$clade, levels = c(\"Escherichia\",\"Klebsiella\",\"Enterobacter\",\"Kosakonia\",\"Cronobacter\"))\n"
   ]
  },
  {
   "cell_type": "code",
   "execution_count": 18,
   "metadata": {
    "pycharm": {
     "name": "#%%\n"
    }
   },
   "outputs": [
    {
     "name": "stdout",
     "output_type": "stream",
     "text": [
      "# A tibble: 15 × 5\n",
      "   species                            n_microcins clade      assemblies percen…¹\n",
      "   <chr>                                    <int> <fct>           <int> <chr>   \n",
      " 1 Actinomyces marmotae                         5 <NA>                5 1       \n",
      " 2 Anaerotruncus colihominis                    1 <NA>                1 1       \n",
      " 3 Brachyspira pilosicoli                       1 <NA>                1 1       \n",
      " 4 Campylobacter coli                           1 <NA>               40 0.025   \n",
      " 5 Klebsiella electrica                         2 Klebsiella          2 1       \n",
      " 6 Klebsiella ornithinolytica                  24 Klebsiella         92 0.26086…\n",
      " 7 Klebsiella planticola                       19 Klebsiella         44 0.43181…\n",
      " 8 Klebsiella terrigena                         1 Klebsiella          2 0.5     \n",
      " 9 Paenarthrobacter nitroguajacolicus           1 <NA>                1 1       \n",
      "10 Yersinia enterocolitica                      1 <NA>                6 0.16666…\n",
      "11 <NA>                                         1 <NA>                1 1       \n",
      "12 Helicobacter marmotae                       NA <NA>                2 <NA>    \n",
      "13 Massilicoli timonensis                      NA <NA>                1 <NA>    \n",
      "14 Streptococcus marmotae                      NA <NA>                1 <NA>    \n",
      "15 Terrisporobacter glycolicus                 NA <NA>                3 <NA>    \n",
      "# … with abbreviated variable name ¹​percent_microcin\n"
     ]
    }
   ],
   "source": [
    "%%R\n",
    "species_microcins %>%\n",
    "\tfilter(!(species %in% Enterobacteriaciae_species_tree$tip.label))\n"
   ]
  },
  {
   "cell_type": "code",
   "execution_count": 19,
   "metadata": {
    "pycharm": {
     "name": "#%%\n"
    }
   },
   "outputs": [
    {
     "name": "stdout",
     "output_type": "stream",
     "text": [
      "Joining, by = \"species\"\n",
      "# A tibble: 53 × 5\n",
      "   species                   n_microcins clade        assemblies percent_micro…¹\n",
      "   <chr>                           <dbl> <chr>             <int>           <dbl>\n",
      " 1 Citrobacter amalonaticus            5 Escherichia          64          0.0781\n",
      " 2 Citrobacter braakii                 6 Escherichia         126          0.0476\n",
      " 3 Citrobacter koseri                  2 Escherichia         109          0.0183\n",
      " 4 Citrobacter werkmanii               3 Escherichia          65          0.0462\n",
      " 5 Citrobacter youngae                 2 Escherichia          40          0.05  \n",
      " 6 Cronobacter dublinensis             3 Cronobacter          42          0.0714\n",
      " 7 Cronobacter malonaticus             3 Cronobacter          62          0.0484\n",
      " 8 Cronobacter muytjensii              1 Cronobacter           8          0.125 \n",
      " 9 Enterobacter asburiae               6 Enterobacter        107          0.0561\n",
      "10 Enterobacter cancerogenus          15 Enterobacter         16          0.938 \n",
      "# … with 43 more rows, and abbreviated variable name ¹​percent_microcin\n",
      "# ℹ Use `print(n = ...)` to see more rows\n"
     ]
    }
   ],
   "source": [
    "%%R\n",
    "species_microcins_hmmer <- Enterobacteriaceae_best_hits %>%\n",
    "\tfilter(component == \"microcins.verified\") %>%\n",
    "\tfilter(hmmerHit == TRUE) %>%\n",
    "\tcount(species, accession) %>% \n",
    "\tcount(species, name = \"n_microcins\") %>%\n",
    "\tfull_join(speciesAssemblies) %>%\n",
    "\tmutate(percent_microcin = n_microcins / assemblies) %>%\n",
    "    mutate(clade = gsub('Citrobacter','Escherichia',clade)) %>%\n",
    "    mutate(clade = gsub('Salmonella','Escherichia',clade)) %>%\n",
    "    mutate(clade = gsub('Raoultella','Klebsiella',clade)) %>%\n",
    "    mutate(clade = gsub('Leclercia','Enterobacter',clade)) %>%\n",
    "    mutate(clade = gsub('Lelliottia','Enterobacter',clade)) %>%\n",
    "    mutate(clade = gsub('Atlantibacter','Cronobacter',clade)) %>%\n",
    "    mutate(clade = gsub('Pluralibacter','Klebsiella',clade))\n",
    "\n",
    "species_microcins_hmmer$n_microcins[is.na(species_microcins_hmmer$n_microcins)] <- 0\n",
    "species_microcins_hmmer$percent_microcin[is.na(species_microcins_hmmer$percent_microcin)] <- 0\n",
    "\n",
    "na.omit(species_microcins_hmmer)"
   ]
  },
  {
   "cell_type": "code",
   "execution_count": 20,
   "metadata": {
    "pycharm": {
     "name": "#%%\n"
    }
   },
   "outputs": [],
   "source": [
    "%%R\n",
    "#species_microcins_hmmer$species <- gsub(\"_\",\" \",species_microcins_hmmer$species)\n",
    "species_microcins_hmmer$clade <- factor(species_microcins_hmmer$clade, levels = c(\"Escherichia\",\"Klebsiella\",\"Enterobacter\",\"Kosakonia\",\"Cronobacter\"))\n",
    "\n",
    "species_microcins_hmmer <- na.omit(species_microcins_hmmer)\n",
    "\n",
    "species_microcins_hmmer <- species_microcins_hmmer %>%\n",
    "    mutate(species = gsub('Klebsiella planticola','Raoultella planticola',species))%>%\n",
    "    mutate(species = gsub('Klebsiella ornithinolytica','Raoultella ornithinolytica',species))\n",
    "\n",
    "species_microcins_hmmer %>% write_csv(\"data/supplemental/species_microcin_hmmer.csv\")"
   ]
  },
  {
   "cell_type": "code",
   "execution_count": 21,
   "metadata": {
    "pycharm": {
     "name": "#%%\n"
    }
   },
   "outputs": [
    {
     "data": {
      "image/png": "[encoded data removed]"
     },
     "metadata": {},
     "output_type": "display_data"
    }
   ],
   "source": [
    "%%R -w 500\n",
    "# species_tree_plot + \n",
    "# geom_facet(panel = \"Trait\", data = species_microcins, geom = geom_barh, \n",
    "#                 aes(x = percent_microcin), width = .6)\n",
    "species_tree_microcin_plot <- facet_plot(species_tree_plot + \n",
    "    xlim(0, 100), \n",
    "    panel = \"percent microcin\", \n",
    "    data = species_microcins_hmmer,\n",
    "    geom = geom_barh,\n",
    "    mapping = aes(x = percent_microcin*100, fill = clade),\n",
    "    stat=\"identity\") +\n",
    "    scale_fill_manual(values=c(\n",
    "        \"#7397c7ff\", \n",
    "        \"#8fc960ff\", \n",
    "        \"#dfbf5dff\",\n",
    "        \"#cf6e6eff\",\n",
    "        \"#a674cbff\")) +\n",
    "    theme_tree2(strip.background = element_blank(),\n",
    "    strip.text.x = element_blank(),\n",
    "         #text = element_text(size = 18)\n",
    "        ) +\n",
    "    xlab(\"Percent assemblies with microcins\")\n",
    "\n",
    "    # xlim(0, 0.1)\n",
    "species_tree_microcin_plot\n",
    "\n",
    "#ggsave(\"plots/07_species_tree_microcin_plot.svg\")"
   ]
  }
 ],
 "metadata": {
  "interpreter": {
   "hash": "184da163bdcbc68ba00985bd6e7412525ff7507797be2878afd169be169c48f1"
  },
  "kernelspec": {
   "display_name": "Python 3 (ipykernel)",
   "language": "python",
   "name": "python3"
  },
  "language_info": {
   "codemirror_mode": {
    "name": "ipython",
    "version": 3
   },
   "file_extension": ".py",
   "mimetype": "text/x-python",
   "name": "python",
   "nbconvert_exporter": "python",
   "pygments_lexer": "ipython3",
   "version": "3.9.13"
  }
 },
 "nbformat": 4,
 "nbformat_minor": 2
}
